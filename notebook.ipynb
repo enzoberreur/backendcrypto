{
 "cells": [
  {
   "cell_type": "code",
   "execution_count": null,
   "id": "56c6971a",
   "metadata": {},
   "outputs": [
    {
     "name": "stdout",
     "output_type": "stream",
     "text": [
      "Defaulting to user installation because normal site-packages is not writeable\n",
      "Requirement already satisfied: plotly in /Users/enzoberreur/Library/Python/3.9/lib/python/site-packages (6.0.1)\n",
      "Requirement already satisfied: narwhals>=1.15.1 in /Users/enzoberreur/Library/Python/3.9/lib/python/site-packages (from plotly) (1.37.1)\n",
      "Requirement already satisfied: packaging in /Users/enzoberreur/Library/Python/3.9/lib/python/site-packages (from plotly) (25.0)\n",
      "\n",
      "\u001b[1m[\u001b[0m\u001b[34;49mnotice\u001b[0m\u001b[1;39;49m]\u001b[0m\u001b[39;49m A new release of pip is available: \u001b[0m\u001b[31;49m25.1\u001b[0m\u001b[39;49m -> \u001b[0m\u001b[32;49m25.1.1\u001b[0m\n",
      "\u001b[1m[\u001b[0m\u001b[34;49mnotice\u001b[0m\u001b[1;39;49m]\u001b[0m\u001b[39;49m To update, run: \u001b[0m\u001b[32;49m/Library/Developer/CommandLineTools/usr/bin/python3 -m pip install --upgrade pip\u001b[0m\n",
      "Defaulting to user installation because normal site-packages is not writeable\n",
      "Requirement already satisfied: pandas in /Users/enzoberreur/Library/Python/3.9/lib/python/site-packages (2.2.3)\n",
      "Requirement already satisfied: numpy>=1.22.4 in /Users/enzoberreur/Library/Python/3.9/lib/python/site-packages (from pandas) (2.0.2)\n",
      "Requirement already satisfied: python-dateutil>=2.8.2 in /Users/enzoberreur/Library/Python/3.9/lib/python/site-packages (from pandas) (2.9.0.post0)\n",
      "Requirement already satisfied: pytz>=2020.1 in /Users/enzoberreur/Library/Python/3.9/lib/python/site-packages (from pandas) (2025.2)\n",
      "Requirement already satisfied: tzdata>=2022.7 in /Users/enzoberreur/Library/Python/3.9/lib/python/site-packages (from pandas) (2025.2)\n",
      "Requirement already satisfied: six>=1.5 in /Library/Developer/CommandLineTools/Library/Frameworks/Python3.framework/Versions/3.9/lib/python3.9/site-packages (from python-dateutil>=2.8.2->pandas) (1.15.0)\n",
      "\n",
      "\u001b[1m[\u001b[0m\u001b[34;49mnotice\u001b[0m\u001b[1;39;49m]\u001b[0m\u001b[39;49m A new release of pip is available: \u001b[0m\u001b[31;49m25.1\u001b[0m\u001b[39;49m -> \u001b[0m\u001b[32;49m25.1.1\u001b[0m\n",
      "\u001b[1m[\u001b[0m\u001b[34;49mnotice\u001b[0m\u001b[1;39;49m]\u001b[0m\u001b[39;49m To update, run: \u001b[0m\u001b[32;49m/Library/Developer/CommandLineTools/usr/bin/python3 -m pip install --upgrade pip\u001b[0m\n",
      "Defaulting to user installation because normal site-packages is not writeable\n",
      "Requirement already satisfied: datetime in /Users/enzoberreur/Library/Python/3.9/lib/python/site-packages (5.5)\n",
      "Requirement already satisfied: zope.interface in /Users/enzoberreur/Library/Python/3.9/lib/python/site-packages (from datetime) (7.2)\n",
      "Requirement already satisfied: pytz in /Users/enzoberreur/Library/Python/3.9/lib/python/site-packages (from datetime) (2025.2)\n",
      "Requirement already satisfied: setuptools in /Library/Developer/CommandLineTools/Library/Frameworks/Python3.framework/Versions/3.9/lib/python3.9/site-packages (from zope.interface->datetime) (58.0.4)\n",
      "\n",
      "\u001b[1m[\u001b[0m\u001b[34;49mnotice\u001b[0m\u001b[1;39;49m]\u001b[0m\u001b[39;49m A new release of pip is available: \u001b[0m\u001b[31;49m25.1\u001b[0m\u001b[39;49m -> \u001b[0m\u001b[32;49m25.1.1\u001b[0m\n",
      "\u001b[1m[\u001b[0m\u001b[34;49mnotice\u001b[0m\u001b[1;39;49m]\u001b[0m\u001b[39;49m To update, run: \u001b[0m\u001b[32;49m/Library/Developer/CommandLineTools/usr/bin/python3 -m pip install --upgrade pip\u001b[0m\n",
      "Defaulting to user installation because normal site-packages is not writeable\n",
      "Requirement already satisfied: numpy in /Users/enzoberreur/Library/Python/3.9/lib/python/site-packages (2.0.2)\n",
      "\n",
      "\u001b[1m[\u001b[0m\u001b[34;49mnotice\u001b[0m\u001b[1;39;49m]\u001b[0m\u001b[39;49m A new release of pip is available: \u001b[0m\u001b[31;49m25.1\u001b[0m\u001b[39;49m -> \u001b[0m\u001b[32;49m25.1.1\u001b[0m\n",
      "\u001b[1m[\u001b[0m\u001b[34;49mnotice\u001b[0m\u001b[1;39;49m]\u001b[0m\u001b[39;49m To update, run: \u001b[0m\u001b[32;49m/Library/Developer/CommandLineTools/usr/bin/python3 -m pip install --upgrade pip\u001b[0m\n",
      "Defaulting to user installation because normal site-packages is not writeable\n",
      "Requirement already satisfied: python-binance in /Users/enzoberreur/Library/Python/3.9/lib/python/site-packages (1.0.28)\n",
      "Requirement already satisfied: requests in /Users/enzoberreur/Library/Python/3.9/lib/python/site-packages (from python-binance) (2.32.3)\n",
      "Requirement already satisfied: six in /Library/Developer/CommandLineTools/Library/Frameworks/Python3.framework/Versions/3.9/lib/python3.9/site-packages (from python-binance) (1.15.0)\n",
      "Requirement already satisfied: dateparser in /Users/enzoberreur/Library/Python/3.9/lib/python/site-packages (from python-binance) (1.2.1)\n",
      "Requirement already satisfied: aiohttp in /Users/enzoberreur/Library/Python/3.9/lib/python/site-packages (from python-binance) (3.11.18)\n",
      "Requirement already satisfied: websockets in /Users/enzoberreur/Library/Python/3.9/lib/python/site-packages (from python-binance) (15.0.1)\n",
      "Requirement already satisfied: pycryptodome in /Users/enzoberreur/Library/Python/3.9/lib/python/site-packages (from python-binance) (3.22.0)\n",
      "Requirement already satisfied: aiohappyeyeballs>=2.3.0 in /Users/enzoberreur/Library/Python/3.9/lib/python/site-packages (from aiohttp->python-binance) (2.6.1)\n",
      "Requirement already satisfied: aiosignal>=1.1.2 in /Users/enzoberreur/Library/Python/3.9/lib/python/site-packages (from aiohttp->python-binance) (1.3.2)\n",
      "Requirement already satisfied: async-timeout<6.0,>=4.0 in /Users/enzoberreur/Library/Python/3.9/lib/python/site-packages (from aiohttp->python-binance) (5.0.1)\n",
      "Requirement already satisfied: attrs>=17.3.0 in /Users/enzoberreur/Library/Python/3.9/lib/python/site-packages (from aiohttp->python-binance) (25.3.0)\n",
      "Requirement already satisfied: frozenlist>=1.1.1 in /Users/enzoberreur/Library/Python/3.9/lib/python/site-packages (from aiohttp->python-binance) (1.6.0)\n",
      "Requirement already satisfied: multidict<7.0,>=4.5 in /Users/enzoberreur/Library/Python/3.9/lib/python/site-packages (from aiohttp->python-binance) (6.4.3)\n",
      "Requirement already satisfied: propcache>=0.2.0 in /Users/enzoberreur/Library/Python/3.9/lib/python/site-packages (from aiohttp->python-binance) (0.3.1)\n",
      "Requirement already satisfied: yarl<2.0,>=1.17.0 in /Users/enzoberreur/Library/Python/3.9/lib/python/site-packages (from aiohttp->python-binance) (1.20.0)\n",
      "Requirement already satisfied: typing-extensions>=4.1.0 in /Users/enzoberreur/Library/Python/3.9/lib/python/site-packages (from multidict<7.0,>=4.5->aiohttp->python-binance) (4.13.2)\n",
      "Requirement already satisfied: idna>=2.0 in /Users/enzoberreur/Library/Python/3.9/lib/python/site-packages (from yarl<2.0,>=1.17.0->aiohttp->python-binance) (3.10)\n",
      "Requirement already satisfied: python-dateutil>=2.7.0 in /Users/enzoberreur/Library/Python/3.9/lib/python/site-packages (from dateparser->python-binance) (2.9.0.post0)\n",
      "Requirement already satisfied: pytz>=2024.2 in /Users/enzoberreur/Library/Python/3.9/lib/python/site-packages (from dateparser->python-binance) (2025.2)\n",
      "Requirement already satisfied: regex!=2019.02.19,!=2021.8.27,>=2015.06.24 in /Users/enzoberreur/Library/Python/3.9/lib/python/site-packages (from dateparser->python-binance) (2024.11.6)\n",
      "Requirement already satisfied: tzlocal>=0.2 in /Users/enzoberreur/Library/Python/3.9/lib/python/site-packages (from dateparser->python-binance) (5.3.1)\n",
      "Requirement already satisfied: charset-normalizer<4,>=2 in /Users/enzoberreur/Library/Python/3.9/lib/python/site-packages (from requests->python-binance) (3.4.1)\n",
      "Requirement already satisfied: urllib3<3,>=1.21.1 in /Users/enzoberreur/Library/Python/3.9/lib/python/site-packages (from requests->python-binance) (2.4.0)\n",
      "Requirement already satisfied: certifi>=2017.4.17 in /Users/enzoberreur/Library/Python/3.9/lib/python/site-packages (from requests->python-binance) (2025.4.26)\n",
      "\n",
      "\u001b[1m[\u001b[0m\u001b[34;49mnotice\u001b[0m\u001b[1;39;49m]\u001b[0m\u001b[39;49m A new release of pip is available: \u001b[0m\u001b[31;49m25.1\u001b[0m\u001b[39;49m -> \u001b[0m\u001b[32;49m25.1.1\u001b[0m\n",
      "\u001b[1m[\u001b[0m\u001b[34;49mnotice\u001b[0m\u001b[1;39;49m]\u001b[0m\u001b[39;49m To update, run: \u001b[0m\u001b[32;49m/Library/Developer/CommandLineTools/usr/bin/python3 -m pip install --upgrade pip\u001b[0m\n"
     ]
    }
   ],
   "source": [
    "!pip install plotly\n",
    "!pip install pandas\n",
    "!pip install datetime\n",
    "!pip install numpy\n",
    "!pip install python-binance\n",
    "!pip install ipywidgets\n",
    "!pip install ta"
   ]
  },
  {
   "cell_type": "markdown",
   "id": "77844ca5",
   "metadata": {},
   "source": [
    "# Mettre à jour les data"
   ]
  },
  {
   "cell_type": "code",
   "execution_count": 34,
   "id": "057df792",
   "metadata": {},
   "outputs": [
    {
     "name": "stdout",
     "output_type": "stream",
     "text": [
      "🔁 Mise à jour : BTCUSDT_1h.csv\n",
      "✅ Fichier mis à jour : BTCUSDT_1h.csv (67557 lignes)\n",
      "🔁 Mise à jour : BTCUSDT_4h.csv\n",
      "✅ Fichier mis à jour : BTCUSDT_4h.csv (16906 lignes)\n",
      "🔁 Mise à jour : BTCUSDT_1d.csv\n",
      "✅ Fichier mis à jour : BTCUSDT_1d.csv (2821 lignes)\n",
      "🔁 Mise à jour : ETHUSDT_1h.csv\n",
      "✅ Fichier mis à jour : ETHUSDT_1h.csv (67557 lignes)\n",
      "🔁 Mise à jour : ETHUSDT_4h.csv\n",
      "✅ Fichier mis à jour : ETHUSDT_4h.csv (16906 lignes)\n",
      "🔁 Mise à jour : ETHUSDT_1d.csv\n",
      "✅ Fichier mis à jour : ETHUSDT_1d.csv (2821 lignes)\n",
      "🔁 Mise à jour : BNBUSDT_1h.csv\n",
      "✅ Fichier mis à jour : BNBUSDT_1h.csv (65620 lignes)\n",
      "🔁 Mise à jour : BNBUSDT_4h.csv\n",
      "✅ Fichier mis à jour : BNBUSDT_4h.csv (16421 lignes)\n",
      "🔁 Mise à jour : BNBUSDT_1d.csv\n",
      "✅ Fichier mis à jour : BNBUSDT_1d.csv (2740 lignes)\n",
      "🔁 Mise à jour : SOLUSDT_1h.csv\n",
      "✅ Fichier mis à jour : SOLUSDT_1h.csv (41503 lignes)\n",
      "🔁 Mise à jour : SOLUSDT_4h.csv\n",
      "✅ Fichier mis à jour : SOLUSDT_4h.csv (10382 lignes)\n",
      "🔁 Mise à jour : SOLUSDT_1d.csv\n",
      "✅ Fichier mis à jour : SOLUSDT_1d.csv (1731 lignes)\n",
      "🔁 Mise à jour : DOGEUSDT_1h.csv\n",
      "✅ Fichier mis à jour : DOGEUSDT_1h.csv (51145 lignes)\n",
      "🔁 Mise à jour : DOGEUSDT_4h.csv\n",
      "✅ Fichier mis à jour : DOGEUSDT_4h.csv (12796 lignes)\n",
      "🔁 Mise à jour : DOGEUSDT_1d.csv\n",
      "✅ Fichier mis à jour : DOGEUSDT_1d.csv (2134 lignes)\n"
     ]
    }
   ],
   "source": [
    "import os\n",
    "import time\n",
    "import pandas as pd\n",
    "from datetime import datetime\n",
    "from binance.client import Client\n",
    "\n",
    "# Connexion à l'API Binance \n",
    "client = Client()\n",
    "\n",
    "# Répertoire pour les fichiers CSV\n",
    "save_dir = \"Historique\"\n",
    "os.makedirs(save_dir, exist_ok=True)\n",
    "\n",
    "# Paires et timeframes à gérer\n",
    "pairs = [\"BTCUSDT\", \"ETHUSDT\", \"BNBUSDT\", \"SOLUSDT\", \"DOGEUSDT\"]\n",
    "timeframes = {\n",
    "    \"1h\": Client.KLINE_INTERVAL_1HOUR,\n",
    "    \"4h\": Client.KLINE_INTERVAL_4HOUR,\n",
    "    \"1d\": Client.KLINE_INTERVAL_1DAY\n",
    "}\n",
    "start_date_str = \"1 Jan, 2017\"\n",
    "\n",
    "# Fonction pour télécharger tout l'historique d'une paire / interval\n",
    "def get_full_history(symbol, interval, start_str):\n",
    "    print(f\"⬇️ Téléchargement : {symbol} - {interval}\")\n",
    "    all_data = []\n",
    "    start_time = int(datetime.strptime(start_str, \"%d %b, %Y\").timestamp() * 1000)\n",
    "\n",
    "    while True:\n",
    "        try:\n",
    "            data = client.get_klines(\n",
    "                symbol=symbol,\n",
    "                interval=interval,\n",
    "                startTime=start_time,\n",
    "                limit=1000\n",
    "            )\n",
    "            if not data:\n",
    "                break\n",
    "\n",
    "            df = pd.DataFrame(data, columns=[\n",
    "                \"open_time\", \"open\", \"high\", \"low\", \"close\", \"volume\",\n",
    "                \"close_time\", \"quote_asset_volume\", \"number_of_trades\",\n",
    "                \"taker_buy_base_asset_volume\", \"taker_buy_quote_asset_volume\", \"ignore\"\n",
    "            ])\n",
    "            df[\"open_time\"] = pd.to_datetime(df[\"open_time\"], unit='ms')\n",
    "            df[\"close_time\"] = pd.to_datetime(df[\"close_time\"], unit='ms')\n",
    "\n",
    "            all_data.append(df)\n",
    "\n",
    "            start_time = int(data[-1][6]) + 1  # close_time + 1ms\n",
    "            time.sleep(1)\n",
    "        except Exception as e:\n",
    "            print(f\"❌ Erreur : {e}\")\n",
    "            break\n",
    "\n",
    "    return pd.concat(all_data) if all_data else pd.DataFrame()\n",
    "\n",
    "# Fonction de mise à jour d'un fichier CSV\n",
    "def update_history(symbol, interval_key):\n",
    "    interval = timeframes[interval_key]\n",
    "    filename = f\"{symbol}_{interval_key}.csv\"\n",
    "    filepath = os.path.join(save_dir, filename)\n",
    "\n",
    "    if os.path.exists(filepath):\n",
    "        print(f\"🔁 Mise à jour : {filename}\")\n",
    "        df_existing = pd.read_csv(filepath)\n",
    "        df_existing[\"close_time\"] = pd.to_datetime(df_existing[\"close_time\"])\n",
    "\n",
    "        last_timestamp = int(df_existing[\"close_time\"].max().timestamp() * 1000) + 1\n",
    "        new_data = []\n",
    "\n",
    "        while True:\n",
    "            try:\n",
    "                data = client.get_klines(\n",
    "                    symbol=symbol,\n",
    "                    interval=interval,\n",
    "                    startTime=last_timestamp,\n",
    "                    limit=1000\n",
    "                )\n",
    "                if not data:\n",
    "                    break\n",
    "\n",
    "                df = pd.DataFrame(data, columns=[\n",
    "                    \"open_time\", \"open\", \"high\", \"low\", \"close\", \"volume\",\n",
    "                    \"close_time\", \"quote_asset_volume\", \"number_of_trades\",\n",
    "                    \"taker_buy_base_asset_volume\", \"taker_buy_quote_asset_volume\", \"ignore\"\n",
    "                ])\n",
    "                df[\"open_time\"] = pd.to_datetime(df[\"open_time\"], unit='ms')\n",
    "                df[\"close_time\"] = pd.to_datetime(df[\"close_time\"], unit='ms')\n",
    "\n",
    "                new_data.append(df)\n",
    "\n",
    "                last_timestamp = int(data[-1][6]) + 1\n",
    "                time.sleep(1)\n",
    "            except Exception as e:\n",
    "                print(f\"❌ Erreur MAJ : {e}\")\n",
    "                break\n",
    "\n",
    "        if new_data:\n",
    "            df_new = pd.concat(new_data)\n",
    "            df_combined = pd.concat([df_existing, df_new])\n",
    "            df_combined.drop_duplicates(subset=\"close_time\", inplace=True)\n",
    "            df_combined.to_csv(filepath, index=False)\n",
    "            print(f\"✅ Fichier mis à jour : {filename} ({len(df_combined)} lignes)\")\n",
    "        else:\n",
    "            print(\"✅ Aucune nouvelle donnée.\")\n",
    "    else:\n",
    "        print(f\"📁 Création : {filename}\")\n",
    "        df = get_full_history(symbol, interval, start_date_str)\n",
    "        if not df.empty:\n",
    "            df.to_csv(filepath, index=False)\n",
    "            print(f\"✅ Fichier créé : {filename} ({len(df)} lignes)\")\n",
    "        else:\n",
    "            print(\"❌ Aucune donnée trouvée.\")\n",
    "\n",
    "# Lancer le script pour toutes les paires et timeframes\n",
    "for pair in pairs:\n",
    "    for tf in timeframes.keys():\n",
    "        update_history(pair, tf)\n"
   ]
  },
  {
   "cell_type": "markdown",
   "id": "9814001a",
   "metadata": {},
   "source": [
    "# Analyse \n",
    "\n",
    "Cette section se concentre sur l'analyse technique des données avec les paramètres sélectionnés."
   ]
  },
  {
   "cell_type": "code",
   "execution_count": 1,
   "id": "e0dfe8f5",
   "metadata": {},
   "outputs": [
    {
     "name": "stdout",
     "output_type": "stream",
     "text": [
      "Données ETH/USDT 1h de 2017-08-17 04:00:00 à 2025-05-07 08:00:00\n",
      "Nombre de périodes: 67557\n",
      "Prix actuel: $1839.04\n",
      "Variation 24h: 2.28%\n",
      "\n",
      "Tendance actuelle: Haussière (forte)\n",
      "Force de la tendance (R²): 0.84\n",
      "Lignes de support dynamique trouvées: 3\n",
      "Lignes de résistance dynamique trouvées: 3\n"
     ]
    },
    {
     "data": {
      "application/vnd.plotly.v1+json": {
       "config": {
        "plotlyServerURL": "https://plot.ly"
       },
       "data": [
        {
         "close": {
          "bdata": "H4XrUbhynECF61G4HpWcQMP1KFyPpZxAUrgehevEnEDhehSuR6ecQJqZmZmZ45xAFK5H4XrEnEDXo3A9CvKcQGZmZmZm8ZxArkfhehTknECF61G4HuacQArXo3A925xAXI/C9Si2nEDNzMzMzKycQM3MzMzMyJxAzczMzMy6nEAAAAAAAJScQMP1KFyPp5xAMzMzMzOrnEAAAAAAALicQPYoXI/CpJxAhetRuB6NnEBxPQrXo4mcQDMzMzMzhZxAmpmZmZmNnEDNzMzMzG2cQGZmZmZmgJxAj8L1KFyWnEDNzMzMzKycQM3MzMzMrJxAhetRuB6qnEA9CtejcIycQAAAAAAAgJxAH4XrUbiHnECkcD0K17icQB+F61G4upxAZmZmZmbEnECPwvUoXMucQK5H4XoUppxAZmZmZmaynEBcj8L1KLacQJqZmZmZqJxAw/UoXI+fnEDsUbgehZqcQClcj8L11pxAKVyPwvXVnEBSuB6F68OcQDMzMzMznJxAj8L1KFyOnEA9CtejcI2cQGZmZmZmjpxAH4XrUbiYnEAUrkfheoScQKRwPQrXnJxAMzMzMzObnEAfhetRuI+cQGZmZmZmj5xAZmZmZmaHnECamZmZmZGcQEjhehSusJxAcT0K16OtnECuR+F6FGicQD0K16NwQ5xA4XoUrkdgnEDhehSuR/+bQHE9CtejHZxA16NwPQoKnEBxPQrXozOcQNejcD0KYpxAPQrXo3BxnECPwvUoXIqcQJqZmZmZkZxAuB6F61F9nEDXo3A9CjOcQOxRuB6FMpxAmpmZmZk2nEAzMzMzM0OcQFK4HoXrMZxAKVyPwvUjnECPwvUoXECcQNejcD0KWpxAPQrXo3B6nED2KFyPwmGcQHsUrkfhQ5xAAAAAAABjnECPwvUoXIicQPYoXI/CcJxA9ihcj8JYnEApXI/C9TGcQOxRuB6FLpxAZmZmZmY5nEB7FK5H4TucQHE9CtejG5xA7FG4HoU5nECF61G4HjicQB+F61G4JpxAAAAAAAAYnED2KFyPwuSbQBSuR+F6vZtAexSuR+G8m0CamZmZmXybQB+F61G4oZtAj8L1KFyom0CuR+F6FIybQK5H4XoUoJtAFK5H4Xr4m0Bcj8L1KOObQPYoXI/CvZtACtejcD2/m0A9CtejcEycQAAAAAAAZJxAUrgehevInECkcD0K16KcQPYoXI/Cg5xAUrgeheuJnEDsUbgehZKcQKRwPQrXkJxAPQrXo3CanEApXI/C9bicQFyPwvUovJxA",
          "dtype": "f8"
         },
         "high": {
          "bdata": "MzMzMzONnEAfhetRuKycQIXrUbgerpxAUrgehevSnECF61G4HsqcQBSuR+F675xAAAAAAAD6nEAAAAAAADydQAAAAAAA9pxA7FG4HoX+nEBmZmZmZuecQAAAAAAA4pxACtejcD3bnEB7FK5H4b+cQHsUrkfhypxAMzMzMzPMnEAAAAAAAMKcQClcj8L1rpxAKVyPwvW3nEAzMzMzM72cQAAAAAAAupxASOF6FK6lnEDD9Shcj5ecQAAAAAAAmJxAcT0K16ORnEDXo3A9CpqcQBSuR+F6iZxAhetRuB6jnECamZmZmbOcQHE9CtejtZxAFK5H4XrAnEBcj8L1KK2cQArXo3A9jpxAzczMzMybnEDNzMzMzLycQEjhehSuvpxAZmZmZmbinEBcj8L1KNacQBSuR+F6zZxAAAAAAADInEC4HoXrUcScQGZmZmZm5pxAzczMzMyxnEBcj8L1KLWcQM3MzMzM55xAzczMzMzknECPwvUoXNqcQI/C9ShcxZxAAAAAAACinECamZmZmZWcQFK4HoXrsJxAKVyPwvWnnEAUrkfheqScQJqZmZmZoZxAmpmZmZmmnEApXI/C9aWcQAAAAAAAnpxASOF6FK6bnEAAAAAAAJycQJqZmZmZyJxAexSuR+G0nECamZmZma2cQIXrUbgebJxAKVyPwvVpnEDXo3A9CmWcQPYoXI/CKpxAKVyPwvUjnEDsUbgehTWcQIXrUbgeapxAw/UoXI92nECPwvUoXJecQDMzMzMznpxA16NwPQqanEAAAAAAAICcQI/C9ShcS5xAmpmZmZlFnECuR+F6FEWcQOxRuB6FXpxAMzMzMzNBnEDNzMzMzFCcQHE9CtejZpxAAAAAAACSnED2KFyPwomcQK5H4XoUYpxAUrgehetunEAzMzMzM6acQIXrUbgem5xAMzMzMzNznECamZmZmXOcQOxRuB6FPZxAcT0K16M9nEDhehSuR0OcQNejcD0KQJxAw/UoXI85nEDXo3A9CkWcQGZmZmZmOJxAMzMzMzMnnEAAAAAAABicQGZmZmZm+ptAcT0K16PDm0DD9Shcj7+bQB+F61G4zptAZmZmZmbLm0DNzMzMzLybQM3MzMzMwZtAKVyPwvX8m0AzMzMzMxucQGZmZmZm9JtAAAAAAADUm0BSuB6F61ScQHE9CtejbZxArkfhehTfnEAAAAAAAOicQEjhehSurJxAKVyPwvWRnEBxPQrXo6WcQDMzMzMzmpxA7FG4HoWpnEAfhetRuLmcQJqZmZmZwZxA",
          "dtype": "f8"
         },
         "low": {
          "bdata": "9ihcj8JxnEAfhetRuHKcQIXrUbgelZxAj8L1KFx9nEAAAAAAAJWcQOF6FK5Hp5xArkfhehShnEA9CtejcMScQM3MzMzMxpxAZmZmZmbUnECuR+F6FN+cQJqZmZmZrpxAZmZmZmaknEApXI/C9aGcQFK4HoXrqZxAzczMzMywnEC4HoXrUYqcQFK4HoXrkpxAzczMzMycnEAzMzMzM6ecQAAAAAAApJxAZmZmZmaCnEAAAAAAAIScQOF6FK5HeZxA16NwPQptnEDsUbgehWacQClcj8L1apxAKVyPwvV+nEC4HoXrUZScQI/C9ShcnpxAw/UoXI+knEBI4XoUrn2cQAAAAAAASJxAPQrXo3B6nEA9CtejcIKcQJqZmZmZqpxAUrgeheuwnECF61G4Hq+cQJqZmZmZkZxAAAAAAACYnEAK16NwPZWcQHsUrkfhmJxA9ihcj8KJnEBxPQrXo5acQM3MzMzMmJxAAAAAAAC+nEAK16NwPbGcQClcj8L1lpxA16NwPQp9nEAAAAAAAHicQMP1KFyPhpxAXI/C9SiMnEDhehSuR2qcQHsUrkfhgZxAzczMzMyGnEAfhetRuHucQLgehetReJxAuB6F61GGnECkcD0K14KcQArXo3A9kJxAcT0K16OfnEDNzMzMzE6cQAAAAAAALJxAAAAAAAA6nEBmZmZmZtebQJqZmZmZ15tAZmZmZmYFnEDhehSuRwOcQK5H4XoUJZxAexSuR+FPnEApXI/C9WKcQGZmZmZmfpxA4XoUrkd6nEAzMzMzMxmcQAAAAAAAHJxACtejcD0fnEB7FK5H4QmcQI/C9ShcHZxAcT0K16MNnECF61G4HiOcQGZmZmZmNZxAAAAAAABQnEDNzMzMzFWcQK5H4XoUHpxA9ihcj8JBnEApXI/C9WCcQGZmZmZmZJxAZmZmZmZLnEA9CtejcC2cQClcj8L1AZxAAAAAAAAYnEAfhetRuC6cQIXrUbgeF5xAUrgehesanEBmZmZmZiacQGZmZmZm8ZtAzczMzMwAnEAzMzMzM9qbQJqZmZmZpZtApHA9Ctebm0AAAAAAAGCbQJqZmZmZfJtAKVyPwvWBm0BxPQrXo4ibQHsUrkfhi5tAMzMzMzObm0BI4XoUruGbQClcj8L1oZtAAAAAAACWm0CamZmZmb6bQGZmZmZmKJxAj8L1KFxanEDhehSuR5OcQJqZmZmZd5xAzczMzMxknEDhehSuR4KcQGZmZmZmhpxAcT0K16OInEBmZmZmZpicQKRwPQrXtpxA",
          "dtype": "f8"
         },
         "name": "Prix",
         "open": {
          "bdata": "zczMzMx+nEAfhetRuHKcQFyPwvUolZxAw/UoXI+lnEB7FK5H4cScQOF6FK5Hp5xAcT0K16PjnEA9CtejcMScQNejcD0K8pxAPQrXo3DxnEDXo3A9CuScQB+F61G4vpxACtejcD3bnEBcj8L1KLacQM3MzMzMrJxAzczMzMzInED2KFyPwrqcQAAAAAAAlJxAmpmZmZmnnEAzMzMzM6ucQAAAAAAAuJxAH4XrUbiknECF61G4Ho2cQHE9CtejiZxACtejcD2FnECamZmZmY2cQPYoXI/CbZxAZmZmZmaAnECPwvUoXJacQPYoXI/CrJxAzczMzMysnECF61G4HqqcQD0K16NwjJxAAAAAAACAnEBI4XoUroecQKRwPQrXuJxAH4XrUbi6nEBmZmZmZsScQI/C9Shcy5xArkfhehSmnECPwvUoXLKcQIXrUbgetpxAmpmZmZmonEDD9Shcj5+cQOxRuB6FmpxAUrgehevWnEAAAAAAANacQFK4HoXrw5xAMzMzMzOcnEBmZmZmZo6cQD0K16NwjZxAPQrXo3COnED2KFyPwpicQD0K16NwhJxApHA9CtecnEAK16NwPZucQB+F61G4j5xAZmZmZmaPnEBmZmZmZoecQJqZmZmZkZxAcT0K16OwnECamZmZma2cQNejcD0KaJxAPQrXo3BDnEDhehSuR2CcQArXo3A9/5tAmpmZmZkdnEAAAAAAAAqcQJqZmZmZM5xA16NwPQpinEAUrkfhenGcQLgehetRipxAw/UoXI+RnEC4HoXrUX2cQK5H4XoUM5xAw/UoXI8ynEDD9ShcjzacQArXo3A9Q5xAKVyPwvUxnEAAAAAAACScQGZmZmZmQJxA16NwPQpanEBmZmZmZnqcQPYoXI/CYZxAexSuR+FDnEAAAAAAAGOcQI/C9ShciJxA9ihcj8JwnEDNzMzMzFicQClcj8L1MZxA7FG4HoUunEBmZmZmZjmcQHsUrkfhO5xAmpmZmZkbnEDD9ShcjzmcQIXrUbgeOJxA9ihcj8ImnEAAAAAAABicQPYoXI/C5JtASOF6FK6nm0BSuB6F67ybQJqZmZmZfJtAzczMzMyim0CPwvUoXKibQNejcD0KjJtArkfhehSgm0AUrkfhevibQDMzMzMz45tAzczMzMy9m0AzMzMzM7+bQGZmZmZmTJxAAAAAAABknEBSuB6F68icQKRwPQrXopxAzczMzMyDnEBSuB6F64mcQBSuR+F6kpxApHA9CteQnEAUrkfhepqcQFK4HoXruJxA",
          "dtype": "f8"
         },
         "type": "candlestick",
         "x": [
          "2025-05-02T09:00:00.000000000",
          "2025-05-02T10:00:00.000000000",
          "2025-05-02T11:00:00.000000000",
          "2025-05-02T12:00:00.000000000",
          "2025-05-02T13:00:00.000000000",
          "2025-05-02T14:00:00.000000000",
          "2025-05-02T15:00:00.000000000",
          "2025-05-02T16:00:00.000000000",
          "2025-05-02T17:00:00.000000000",
          "2025-05-02T18:00:00.000000000",
          "2025-05-02T19:00:00.000000000",
          "2025-05-02T20:00:00.000000000",
          "2025-05-02T21:00:00.000000000",
          "2025-05-02T22:00:00.000000000",
          "2025-05-02T23:00:00.000000000",
          "2025-05-03T00:00:00.000000000",
          "2025-05-03T01:00:00.000000000",
          "2025-05-03T02:00:00.000000000",
          "2025-05-03T03:00:00.000000000",
          "2025-05-03T04:00:00.000000000",
          "2025-05-03T05:00:00.000000000",
          "2025-05-03T06:00:00.000000000",
          "2025-05-03T07:00:00.000000000",
          "2025-05-03T08:00:00.000000000",
          "2025-05-03T09:00:00.000000000",
          "2025-05-03T10:00:00.000000000",
          "2025-05-03T11:00:00.000000000",
          "2025-05-03T12:00:00.000000000",
          "2025-05-03T13:00:00.000000000",
          "2025-05-03T14:00:00.000000000",
          "2025-05-03T15:00:00.000000000",
          "2025-05-03T16:00:00.000000000",
          "2025-05-03T17:00:00.000000000",
          "2025-05-03T18:00:00.000000000",
          "2025-05-03T19:00:00.000000000",
          "2025-05-03T20:00:00.000000000",
          "2025-05-03T21:00:00.000000000",
          "2025-05-03T22:00:00.000000000",
          "2025-05-03T23:00:00.000000000",
          "2025-05-04T00:00:00.000000000",
          "2025-05-04T01:00:00.000000000",
          "2025-05-04T02:00:00.000000000",
          "2025-05-04T03:00:00.000000000",
          "2025-05-04T04:00:00.000000000",
          "2025-05-04T05:00:00.000000000",
          "2025-05-04T06:00:00.000000000",
          "2025-05-04T07:00:00.000000000",
          "2025-05-04T08:00:00.000000000",
          "2025-05-04T09:00:00.000000000",
          "2025-05-04T10:00:00.000000000",
          "2025-05-04T11:00:00.000000000",
          "2025-05-04T12:00:00.000000000",
          "2025-05-04T13:00:00.000000000",
          "2025-05-04T14:00:00.000000000",
          "2025-05-04T15:00:00.000000000",
          "2025-05-04T16:00:00.000000000",
          "2025-05-04T17:00:00.000000000",
          "2025-05-04T18:00:00.000000000",
          "2025-05-04T19:00:00.000000000",
          "2025-05-04T20:00:00.000000000",
          "2025-05-04T21:00:00.000000000",
          "2025-05-04T22:00:00.000000000",
          "2025-05-04T23:00:00.000000000",
          "2025-05-05T00:00:00.000000000",
          "2025-05-05T01:00:00.000000000",
          "2025-05-05T02:00:00.000000000",
          "2025-05-05T03:00:00.000000000",
          "2025-05-05T04:00:00.000000000",
          "2025-05-05T05:00:00.000000000",
          "2025-05-05T06:00:00.000000000",
          "2025-05-05T07:00:00.000000000",
          "2025-05-05T08:00:00.000000000",
          "2025-05-05T09:00:00.000000000",
          "2025-05-05T10:00:00.000000000",
          "2025-05-05T11:00:00.000000000",
          "2025-05-05T12:00:00.000000000",
          "2025-05-05T13:00:00.000000000",
          "2025-05-05T14:00:00.000000000",
          "2025-05-05T15:00:00.000000000",
          "2025-05-05T16:00:00.000000000",
          "2025-05-05T17:00:00.000000000",
          "2025-05-05T18:00:00.000000000",
          "2025-05-05T19:00:00.000000000",
          "2025-05-05T20:00:00.000000000",
          "2025-05-05T21:00:00.000000000",
          "2025-05-05T22:00:00.000000000",
          "2025-05-05T23:00:00.000000000",
          "2025-05-06T00:00:00.000000000",
          "2025-05-06T01:00:00.000000000",
          "2025-05-06T02:00:00.000000000",
          "2025-05-06T03:00:00.000000000",
          "2025-05-06T04:00:00.000000000",
          "2025-05-06T05:00:00.000000000",
          "2025-05-06T06:00:00.000000000",
          "2025-05-06T07:00:00.000000000",
          "2025-05-06T08:00:00.000000000",
          "2025-05-06T09:00:00.000000000",
          "2025-05-06T10:00:00.000000000",
          "2025-05-06T11:00:00.000000000",
          "2025-05-06T12:00:00.000000000",
          "2025-05-06T13:00:00.000000000",
          "2025-05-06T14:00:00.000000000",
          "2025-05-06T15:00:00.000000000",
          "2025-05-06T16:00:00.000000000",
          "2025-05-06T17:00:00.000000000",
          "2025-05-06T18:00:00.000000000",
          "2025-05-06T19:00:00.000000000",
          "2025-05-06T20:00:00.000000000",
          "2025-05-06T21:00:00.000000000",
          "2025-05-06T22:00:00.000000000",
          "2025-05-06T23:00:00.000000000",
          "2025-05-07T00:00:00.000000000",
          "2025-05-07T01:00:00.000000000",
          "2025-05-07T02:00:00.000000000",
          "2025-05-07T03:00:00.000000000",
          "2025-05-07T04:00:00.000000000",
          "2025-05-07T05:00:00.000000000",
          "2025-05-07T06:00:00.000000000",
          "2025-05-07T07:00:00.000000000",
          "2025-05-07T08:00:00.000000000"
         ],
         "xaxis": "x",
         "yaxis": "y"
        },
        {
         "line": {
          "color": "blue",
          "width": 1
         },
         "name": "SMA 20",
         "type": "scatter",
         "x": [
          "2025-05-02T09:00:00.000000000",
          "2025-05-02T10:00:00.000000000",
          "2025-05-02T11:00:00.000000000",
          "2025-05-02T12:00:00.000000000",
          "2025-05-02T13:00:00.000000000",
          "2025-05-02T14:00:00.000000000",
          "2025-05-02T15:00:00.000000000",
          "2025-05-02T16:00:00.000000000",
          "2025-05-02T17:00:00.000000000",
          "2025-05-02T18:00:00.000000000",
          "2025-05-02T19:00:00.000000000",
          "2025-05-02T20:00:00.000000000",
          "2025-05-02T21:00:00.000000000",
          "2025-05-02T22:00:00.000000000",
          "2025-05-02T23:00:00.000000000",
          "2025-05-03T00:00:00.000000000",
          "2025-05-03T01:00:00.000000000",
          "2025-05-03T02:00:00.000000000",
          "2025-05-03T03:00:00.000000000",
          "2025-05-03T04:00:00.000000000",
          "2025-05-03T05:00:00.000000000",
          "2025-05-03T06:00:00.000000000",
          "2025-05-03T07:00:00.000000000",
          "2025-05-03T08:00:00.000000000",
          "2025-05-03T09:00:00.000000000",
          "2025-05-03T10:00:00.000000000",
          "2025-05-03T11:00:00.000000000",
          "2025-05-03T12:00:00.000000000",
          "2025-05-03T13:00:00.000000000",
          "2025-05-03T14:00:00.000000000",
          "2025-05-03T15:00:00.000000000",
          "2025-05-03T16:00:00.000000000",
          "2025-05-03T17:00:00.000000000",
          "2025-05-03T18:00:00.000000000",
          "2025-05-03T19:00:00.000000000",
          "2025-05-03T20:00:00.000000000",
          "2025-05-03T21:00:00.000000000",
          "2025-05-03T22:00:00.000000000",
          "2025-05-03T23:00:00.000000000",
          "2025-05-04T00:00:00.000000000",
          "2025-05-04T01:00:00.000000000",
          "2025-05-04T02:00:00.000000000",
          "2025-05-04T03:00:00.000000000",
          "2025-05-04T04:00:00.000000000",
          "2025-05-04T05:00:00.000000000",
          "2025-05-04T06:00:00.000000000",
          "2025-05-04T07:00:00.000000000",
          "2025-05-04T08:00:00.000000000",
          "2025-05-04T09:00:00.000000000",
          "2025-05-04T10:00:00.000000000",
          "2025-05-04T11:00:00.000000000",
          "2025-05-04T12:00:00.000000000",
          "2025-05-04T13:00:00.000000000",
          "2025-05-04T14:00:00.000000000",
          "2025-05-04T15:00:00.000000000",
          "2025-05-04T16:00:00.000000000",
          "2025-05-04T17:00:00.000000000",
          "2025-05-04T18:00:00.000000000",
          "2025-05-04T19:00:00.000000000",
          "2025-05-04T20:00:00.000000000",
          "2025-05-04T21:00:00.000000000",
          "2025-05-04T22:00:00.000000000",
          "2025-05-04T23:00:00.000000000",
          "2025-05-05T00:00:00.000000000",
          "2025-05-05T01:00:00.000000000",
          "2025-05-05T02:00:00.000000000",
          "2025-05-05T03:00:00.000000000",
          "2025-05-05T04:00:00.000000000",
          "2025-05-05T05:00:00.000000000",
          "2025-05-05T06:00:00.000000000",
          "2025-05-05T07:00:00.000000000",
          "2025-05-05T08:00:00.000000000",
          "2025-05-05T09:00:00.000000000",
          "2025-05-05T10:00:00.000000000",
          "2025-05-05T11:00:00.000000000",
          "2025-05-05T12:00:00.000000000",
          "2025-05-05T13:00:00.000000000",
          "2025-05-05T14:00:00.000000000",
          "2025-05-05T15:00:00.000000000",
          "2025-05-05T16:00:00.000000000",
          "2025-05-05T17:00:00.000000000",
          "2025-05-05T18:00:00.000000000",
          "2025-05-05T19:00:00.000000000",
          "2025-05-05T20:00:00.000000000",
          "2025-05-05T21:00:00.000000000",
          "2025-05-05T22:00:00.000000000",
          "2025-05-05T23:00:00.000000000",
          "2025-05-06T00:00:00.000000000",
          "2025-05-06T01:00:00.000000000",
          "2025-05-06T02:00:00.000000000",
          "2025-05-06T03:00:00.000000000",
          "2025-05-06T04:00:00.000000000",
          "2025-05-06T05:00:00.000000000",
          "2025-05-06T06:00:00.000000000",
          "2025-05-06T07:00:00.000000000",
          "2025-05-06T08:00:00.000000000",
          "2025-05-06T09:00:00.000000000",
          "2025-05-06T10:00:00.000000000",
          "2025-05-06T11:00:00.000000000",
          "2025-05-06T12:00:00.000000000",
          "2025-05-06T13:00:00.000000000",
          "2025-05-06T14:00:00.000000000",
          "2025-05-06T15:00:00.000000000",
          "2025-05-06T16:00:00.000000000",
          "2025-05-06T17:00:00.000000000",
          "2025-05-06T18:00:00.000000000",
          "2025-05-06T19:00:00.000000000",
          "2025-05-06T20:00:00.000000000",
          "2025-05-06T21:00:00.000000000",
          "2025-05-06T22:00:00.000000000",
          "2025-05-06T23:00:00.000000000",
          "2025-05-07T00:00:00.000000000",
          "2025-05-07T01:00:00.000000000",
          "2025-05-07T02:00:00.000000000",
          "2025-05-07T03:00:00.000000000",
          "2025-05-07T04:00:00.000000000",
          "2025-05-07T05:00:00.000000000",
          "2025-05-07T06:00:00.000000000",
          "2025-05-07T07:00:00.000000000",
          "2025-05-07T08:00:00.000000000"
         ],
         "xaxis": "x",
         "y": {
          "bdata": "AAAAAAAA+H8AAAAAAAD4fwAAAAAAAPh/AAAAAAAA+H8AAAAAAAD4fwAAAAAAAPh/AAAAAAAA+H8AAAAAAAD4fwAAAAAAAPh/AAAAAAAA+H8AAAAAAAD4fwAAAAAAAPh/AAAAAAAA+H8AAAAAAAD4fwAAAAAAAPh/AAAAAAAA+H8AAAAAAAD4fwAAAAAAAPh/AAAAAAAA+H/TTWIQmL2cQGu8dJMYwJxABVYOLbK/nEDNzMzMTL6cQL6fGi8du5xArkfhetS5nEA9Ctej8LOcQKjGSzeJsJxAy6FFtvOrnECDwMqhhaicQF26SQzCpZxAXrpJDMKinEAisHJo0Z6cQJDC9SgcnJxAyEs3iUGanECS7Xw/dZmcQGMQWDl0mZxAtch2vt+bnECLbOf7qZ2cQMUgsHJonZxA46WbxCCdnEBoke18/52cQB1aZDtfn5xAiBbZznegnEAQWDm0iKGcQMqhRbYzpZxAXY/C9WiqnECoxks3ya2cQBbZzvcTrpxAkxgEVo6snEBzaJHt/KqcQDAIrByaqZxA7qfGSzeqnEA9CtejcKqcQNAi2/l+q5xAJQaBlQOqnEC+nxov3aecQFg5tMg2pZxAikFg5dChnEBuEoPAyqCcQPp+ary0oJxA4noUrkegnED7qfHSDZ2cQJvEILBymJxAqMZLN4mVnECYbhKDwIqcQKjGSzeJgZxAokW28z14nEAlBoGVA3OcQDZeuknMcJxAzvdT42VvnEAFVg4tMm+cQKVwPQrXbpxAqxxaZHtunEDVeOkmMWmcQJLtfD/1Y5xAlm4Sg4BfnEDVeOkmsVucQLpJDAJrV5xADi2yne9RnEC4HoXrUUycQHA9CtcjSJxAK4cW2Q5JnEDo+6nxkkqcQJVDi2wnSZxAcD0K1yNOnEDl0CLbeVOcQCgxCKycWJxAhhbZzndanEDz0k1iEFicQIgW2c63VJxAUrgehatQnECq8dJNYkycQAAAAACAR5xA6Pup8dJHnEDIdr6fGkicQMP1KFxPR5xAZmZmZiZFnEBwEoPASkGcQLpJDAIrPJxA001iEJg1nECDwMqhhSqcQA4tsp2vH5xAItv5fmoWnEDm0CLbOQ2cQBWuR+F6A5xAqMZLN0n8m0D6fmq8NPWbQPp+arx07ZtAHoXrUbjnm0Dwp8ZLN+mbQGu8dJNY65tAzvdT42Xym0DFILByKPmbQIXrUbje/JtAKlyPwvUAnECamZmZWQacQAisHFpkDJxA5dAi23kVnEDNzMzMDCKcQPLSTWLQLpxA",
          "dtype": "f8"
         },
         "yaxis": "y"
        },
        {
         "line": {
          "color": "orange",
          "width": 1
         },
         "name": "SMA 50",
         "type": "scatter",
         "x": [
          "2025-05-02T09:00:00.000000000",
          "2025-05-02T10:00:00.000000000",
          "2025-05-02T11:00:00.000000000",
          "2025-05-02T12:00:00.000000000",
          "2025-05-02T13:00:00.000000000",
          "2025-05-02T14:00:00.000000000",
          "2025-05-02T15:00:00.000000000",
          "2025-05-02T16:00:00.000000000",
          "2025-05-02T17:00:00.000000000",
          "2025-05-02T18:00:00.000000000",
          "2025-05-02T19:00:00.000000000",
          "2025-05-02T20:00:00.000000000",
          "2025-05-02T21:00:00.000000000",
          "2025-05-02T22:00:00.000000000",
          "2025-05-02T23:00:00.000000000",
          "2025-05-03T00:00:00.000000000",
          "2025-05-03T01:00:00.000000000",
          "2025-05-03T02:00:00.000000000",
          "2025-05-03T03:00:00.000000000",
          "2025-05-03T04:00:00.000000000",
          "2025-05-03T05:00:00.000000000",
          "2025-05-03T06:00:00.000000000",
          "2025-05-03T07:00:00.000000000",
          "2025-05-03T08:00:00.000000000",
          "2025-05-03T09:00:00.000000000",
          "2025-05-03T10:00:00.000000000",
          "2025-05-03T11:00:00.000000000",
          "2025-05-03T12:00:00.000000000",
          "2025-05-03T13:00:00.000000000",
          "2025-05-03T14:00:00.000000000",
          "2025-05-03T15:00:00.000000000",
          "2025-05-03T16:00:00.000000000",
          "2025-05-03T17:00:00.000000000",
          "2025-05-03T18:00:00.000000000",
          "2025-05-03T19:00:00.000000000",
          "2025-05-03T20:00:00.000000000",
          "2025-05-03T21:00:00.000000000",
          "2025-05-03T22:00:00.000000000",
          "2025-05-03T23:00:00.000000000",
          "2025-05-04T00:00:00.000000000",
          "2025-05-04T01:00:00.000000000",
          "2025-05-04T02:00:00.000000000",
          "2025-05-04T03:00:00.000000000",
          "2025-05-04T04:00:00.000000000",
          "2025-05-04T05:00:00.000000000",
          "2025-05-04T06:00:00.000000000",
          "2025-05-04T07:00:00.000000000",
          "2025-05-04T08:00:00.000000000",
          "2025-05-04T09:00:00.000000000",
          "2025-05-04T10:00:00.000000000",
          "2025-05-04T11:00:00.000000000",
          "2025-05-04T12:00:00.000000000",
          "2025-05-04T13:00:00.000000000",
          "2025-05-04T14:00:00.000000000",
          "2025-05-04T15:00:00.000000000",
          "2025-05-04T16:00:00.000000000",
          "2025-05-04T17:00:00.000000000",
          "2025-05-04T18:00:00.000000000",
          "2025-05-04T19:00:00.000000000",
          "2025-05-04T20:00:00.000000000",
          "2025-05-04T21:00:00.000000000",
          "2025-05-04T22:00:00.000000000",
          "2025-05-04T23:00:00.000000000",
          "2025-05-05T00:00:00.000000000",
          "2025-05-05T01:00:00.000000000",
          "2025-05-05T02:00:00.000000000",
          "2025-05-05T03:00:00.000000000",
          "2025-05-05T04:00:00.000000000",
          "2025-05-05T05:00:00.000000000",
          "2025-05-05T06:00:00.000000000",
          "2025-05-05T07:00:00.000000000",
          "2025-05-05T08:00:00.000000000",
          "2025-05-05T09:00:00.000000000",
          "2025-05-05T10:00:00.000000000",
          "2025-05-05T11:00:00.000000000",
          "2025-05-05T12:00:00.000000000",
          "2025-05-05T13:00:00.000000000",
          "2025-05-05T14:00:00.000000000",
          "2025-05-05T15:00:00.000000000",
          "2025-05-05T16:00:00.000000000",
          "2025-05-05T17:00:00.000000000",
          "2025-05-05T18:00:00.000000000",
          "2025-05-05T19:00:00.000000000",
          "2025-05-05T20:00:00.000000000",
          "2025-05-05T21:00:00.000000000",
          "2025-05-05T22:00:00.000000000",
          "2025-05-05T23:00:00.000000000",
          "2025-05-06T00:00:00.000000000",
          "2025-05-06T01:00:00.000000000",
          "2025-05-06T02:00:00.000000000",
          "2025-05-06T03:00:00.000000000",
          "2025-05-06T04:00:00.000000000",
          "2025-05-06T05:00:00.000000000",
          "2025-05-06T06:00:00.000000000",
          "2025-05-06T07:00:00.000000000",
          "2025-05-06T08:00:00.000000000",
          "2025-05-06T09:00:00.000000000",
          "2025-05-06T10:00:00.000000000",
          "2025-05-06T11:00:00.000000000",
          "2025-05-06T12:00:00.000000000",
          "2025-05-06T13:00:00.000000000",
          "2025-05-06T14:00:00.000000000",
          "2025-05-06T15:00:00.000000000",
          "2025-05-06T16:00:00.000000000",
          "2025-05-06T17:00:00.000000000",
          "2025-05-06T18:00:00.000000000",
          "2025-05-06T19:00:00.000000000",
          "2025-05-06T20:00:00.000000000",
          "2025-05-06T21:00:00.000000000",
          "2025-05-06T22:00:00.000000000",
          "2025-05-06T23:00:00.000000000",
          "2025-05-07T00:00:00.000000000",
          "2025-05-07T01:00:00.000000000",
          "2025-05-07T02:00:00.000000000",
          "2025-05-07T03:00:00.000000000",
          "2025-05-07T04:00:00.000000000",
          "2025-05-07T05:00:00.000000000",
          "2025-05-07T06:00:00.000000000",
          "2025-05-07T07:00:00.000000000",
          "2025-05-07T08:00:00.000000000"
         ],
         "xaxis": "x",
         "y": {
          "bdata": "AAAAAAAA+H8AAAAAAAD4fwAAAAAAAPh/AAAAAAAA+H8AAAAAAAD4fwAAAAAAAPh/AAAAAAAA+H8AAAAAAAD4fwAAAAAAAPh/AAAAAAAA+H8AAAAAAAD4fwAAAAAAAPh/AAAAAAAA+H8AAAAAAAD4fwAAAAAAAPh/AAAAAAAA+H8AAAAAAAD4fwAAAAAAAPh/AAAAAAAA+H8AAAAAAAD4fwAAAAAAAPh/AAAAAAAA+H8AAAAAAAD4fwAAAAAAAPh/AAAAAAAA+H8AAAAAAAD4fwAAAAAAAPh/AAAAAAAA+H8AAAAAAAD4fwAAAAAAAPh/AAAAAAAA+H8AAAAAAAD4fwAAAAAAAPh/AAAAAAAA+H8AAAAAAAD4fwAAAAAAAPh/AAAAAAAA+H8AAAAAAAD4fwAAAAAAAPh/AAAAAAAA+H8AAAAAAAD4fwAAAAAAAPh/AAAAAAAA+H8AAAAAAAD4fwAAAAAAAPh/AAAAAAAA+H8AAAAAAAD4fwAAAAAAAPh/AAAAAAAA+H9kzF1LSK2cQHaTGATWrZxAxCCwcuitnEC7BRIUP62cQEOtad5xrJxAjUrqBDSsnEDGuriNhqqcQFg5tMh2qZxAcfCFyVSnnEBNFYxKaqWcQAMJih9jpJxAc9cS8kGjnEBO845T9KCcQFyPwvWonpxAjzF3LSGdnEDD0ytlGZmcQPp+arz0lZxA2xt8YTKTnEDOiNLe4JCcQE0VjEpqj5xAL90kBgGOnEDl0CLbeY2cQJ1eKcuQjZxA4VgXt1GNnEAaBFYOrYucQLNZ9bnaiZxA7OI2GsCInECcgCbChoecQGkAb4GEhZxAt0CC4seCnEAoMQisnICcQOELk6kCf5xAUkmdgKZ+nECzDHGsC36cQHxhMlWwfJxAt/P91Ph6nEAu/yH99nmcQG8Sg8BKeJxAAAAAAAB2nEDFjzF3rXOcQNejcD0KcZxA3UYDeItunEBvzojSXmycQKwcWmS7aZxAbhKDwMpnnECASL99nWScQHqlLEMcYZxA6SYxCKxdnEBYF7fRAFqcQJSHhVrTVZxAgSbChqdRnECbVZ+rLUycQF1LyAc9R5xAdpMYBNZCnEBR2ht8YT2cQOM2GsBbOJxA8kHPZlU1nECvlGWI4zGcQGHl0CLbLZxApb3BF6YpnECgGi/dpCecQBNhw9MrJpxA91PjpRsonEC9dJMYBCqcQPvt68C5KpxAU3Qkl38tnEB0kxgE1i+cQHjpJjGIMpxADQIrh5Y0nEBqTfOOUzacQI7k8h/SN5xA",
          "dtype": "f8"
         },
         "yaxis": "y"
        },
        {
         "line": {
          "color": "red",
          "width": 1
         },
         "name": "SMA 200",
         "type": "scatter",
         "x": [
          "2025-05-02T09:00:00.000000000",
          "2025-05-02T10:00:00.000000000",
          "2025-05-02T11:00:00.000000000",
          "2025-05-02T12:00:00.000000000",
          "2025-05-02T13:00:00.000000000",
          "2025-05-02T14:00:00.000000000",
          "2025-05-02T15:00:00.000000000",
          "2025-05-02T16:00:00.000000000",
          "2025-05-02T17:00:00.000000000",
          "2025-05-02T18:00:00.000000000",
          "2025-05-02T19:00:00.000000000",
          "2025-05-02T20:00:00.000000000",
          "2025-05-02T21:00:00.000000000",
          "2025-05-02T22:00:00.000000000",
          "2025-05-02T23:00:00.000000000",
          "2025-05-03T00:00:00.000000000",
          "2025-05-03T01:00:00.000000000",
          "2025-05-03T02:00:00.000000000",
          "2025-05-03T03:00:00.000000000",
          "2025-05-03T04:00:00.000000000",
          "2025-05-03T05:00:00.000000000",
          "2025-05-03T06:00:00.000000000",
          "2025-05-03T07:00:00.000000000",
          "2025-05-03T08:00:00.000000000",
          "2025-05-03T09:00:00.000000000",
          "2025-05-03T10:00:00.000000000",
          "2025-05-03T11:00:00.000000000",
          "2025-05-03T12:00:00.000000000",
          "2025-05-03T13:00:00.000000000",
          "2025-05-03T14:00:00.000000000",
          "2025-05-03T15:00:00.000000000",
          "2025-05-03T16:00:00.000000000",
          "2025-05-03T17:00:00.000000000",
          "2025-05-03T18:00:00.000000000",
          "2025-05-03T19:00:00.000000000",
          "2025-05-03T20:00:00.000000000",
          "2025-05-03T21:00:00.000000000",
          "2025-05-03T22:00:00.000000000",
          "2025-05-03T23:00:00.000000000",
          "2025-05-04T00:00:00.000000000",
          "2025-05-04T01:00:00.000000000",
          "2025-05-04T02:00:00.000000000",
          "2025-05-04T03:00:00.000000000",
          "2025-05-04T04:00:00.000000000",
          "2025-05-04T05:00:00.000000000",
          "2025-05-04T06:00:00.000000000",
          "2025-05-04T07:00:00.000000000",
          "2025-05-04T08:00:00.000000000",
          "2025-05-04T09:00:00.000000000",
          "2025-05-04T10:00:00.000000000",
          "2025-05-04T11:00:00.000000000",
          "2025-05-04T12:00:00.000000000",
          "2025-05-04T13:00:00.000000000",
          "2025-05-04T14:00:00.000000000",
          "2025-05-04T15:00:00.000000000",
          "2025-05-04T16:00:00.000000000",
          "2025-05-04T17:00:00.000000000",
          "2025-05-04T18:00:00.000000000",
          "2025-05-04T19:00:00.000000000",
          "2025-05-04T20:00:00.000000000",
          "2025-05-04T21:00:00.000000000",
          "2025-05-04T22:00:00.000000000",
          "2025-05-04T23:00:00.000000000",
          "2025-05-05T00:00:00.000000000",
          "2025-05-05T01:00:00.000000000",
          "2025-05-05T02:00:00.000000000",
          "2025-05-05T03:00:00.000000000",
          "2025-05-05T04:00:00.000000000",
          "2025-05-05T05:00:00.000000000",
          "2025-05-05T06:00:00.000000000",
          "2025-05-05T07:00:00.000000000",
          "2025-05-05T08:00:00.000000000",
          "2025-05-05T09:00:00.000000000",
          "2025-05-05T10:00:00.000000000",
          "2025-05-05T11:00:00.000000000",
          "2025-05-05T12:00:00.000000000",
          "2025-05-05T13:00:00.000000000",
          "2025-05-05T14:00:00.000000000",
          "2025-05-05T15:00:00.000000000",
          "2025-05-05T16:00:00.000000000",
          "2025-05-05T17:00:00.000000000",
          "2025-05-05T18:00:00.000000000",
          "2025-05-05T19:00:00.000000000",
          "2025-05-05T20:00:00.000000000",
          "2025-05-05T21:00:00.000000000",
          "2025-05-05T22:00:00.000000000",
          "2025-05-05T23:00:00.000000000",
          "2025-05-06T00:00:00.000000000",
          "2025-05-06T01:00:00.000000000",
          "2025-05-06T02:00:00.000000000",
          "2025-05-06T03:00:00.000000000",
          "2025-05-06T04:00:00.000000000",
          "2025-05-06T05:00:00.000000000",
          "2025-05-06T06:00:00.000000000",
          "2025-05-06T07:00:00.000000000",
          "2025-05-06T08:00:00.000000000",
          "2025-05-06T09:00:00.000000000",
          "2025-05-06T10:00:00.000000000",
          "2025-05-06T11:00:00.000000000",
          "2025-05-06T12:00:00.000000000",
          "2025-05-06T13:00:00.000000000",
          "2025-05-06T14:00:00.000000000",
          "2025-05-06T15:00:00.000000000",
          "2025-05-06T16:00:00.000000000",
          "2025-05-06T17:00:00.000000000",
          "2025-05-06T18:00:00.000000000",
          "2025-05-06T19:00:00.000000000",
          "2025-05-06T20:00:00.000000000",
          "2025-05-06T21:00:00.000000000",
          "2025-05-06T22:00:00.000000000",
          "2025-05-06T23:00:00.000000000",
          "2025-05-07T00:00:00.000000000",
          "2025-05-07T01:00:00.000000000",
          "2025-05-07T02:00:00.000000000",
          "2025-05-07T03:00:00.000000000",
          "2025-05-07T04:00:00.000000000",
          "2025-05-07T05:00:00.000000000",
          "2025-05-07T06:00:00.000000000",
          "2025-05-07T07:00:00.000000000",
          "2025-05-07T08:00:00.000000000"
         ],
         "xaxis": "x",
         "y": {
          "bdata": "AAAAAAAA+H8AAAAAAAD4fwAAAAAAAPh/AAAAAAAA+H8AAAAAAAD4fwAAAAAAAPh/AAAAAAAA+H8AAAAAAAD4fwAAAAAAAPh/AAAAAAAA+H8AAAAAAAD4fwAAAAAAAPh/AAAAAAAA+H8AAAAAAAD4fwAAAAAAAPh/AAAAAAAA+H8AAAAAAAD4fwAAAAAAAPh/AAAAAAAA+H8AAAAAAAD4fwAAAAAAAPh/AAAAAAAA+H8AAAAAAAD4fwAAAAAAAPh/AAAAAAAA+H8AAAAAAAD4fwAAAAAAAPh/AAAAAAAA+H8AAAAAAAD4fwAAAAAAAPh/AAAAAAAA+H8AAAAAAAD4fwAAAAAAAPh/AAAAAAAA+H8AAAAAAAD4fwAAAAAAAPh/AAAAAAAA+H8AAAAAAAD4fwAAAAAAAPh/AAAAAAAA+H8AAAAAAAD4fwAAAAAAAPh/AAAAAAAA+H8AAAAAAAD4fwAAAAAAAPh/AAAAAAAA+H8AAAAAAAD4fwAAAAAAAPh/AAAAAAAA+H8AAAAAAAD4fwAAAAAAAPh/AAAAAAAA+H8AAAAAAAD4fwAAAAAAAPh/AAAAAAAA+H8AAAAAAAD4fwAAAAAAAPh/AAAAAAAA+H8AAAAAAAD4fwAAAAAAAPh/AAAAAAAA+H8AAAAAAAD4fwAAAAAAAPh/AAAAAAAA+H8AAAAAAAD4fwAAAAAAAPh/AAAAAAAA+H8AAAAAAAD4fwAAAAAAAPh/AAAAAAAA+H8AAAAAAAD4fwAAAAAAAPh/AAAAAAAA+H8AAAAAAAD4fwAAAAAAAPh/AAAAAAAA+H8AAAAAAAD4fwAAAAAAAPh/AAAAAAAA+H8AAAAAAAD4fwAAAAAAAPh/AAAAAAAA+H8AAAAAAAD4fwAAAAAAAPh/AAAAAAAA+H8AAAAAAAD4fwAAAAAAAPh/AAAAAAAA+H8AAAAAAAD4fwAAAAAAAPh/AAAAAAAA+H8AAAAAAAD4fwAAAAAAAPh/AAAAAAAA+H8AAAAAAAD4fwAAAAAAAPh/AAAAAAAA+H8AAAAAAAD4fwAAAAAAAPh/AAAAAAAA+H8AAAAAAAD4fwAAAAAAAPh/AAAAAAAA+H8AAAAAAAD4fwAAAAAAAPh/AAAAAAAA+H8AAAAAAAD4fwAAAAAAAPh/AAAAAAAA+H8AAAAAAAD4fwAAAAAAAPh/AAAAAAAA+H8AAAAAAAD4fwAAAAAAAPh/AAAAAAAA+H8AAAAAAAD4fwAAAAAAAPh/AAAAAAAA+H8AAAAAAAD4fwAAAAAAAPh/",
          "dtype": "f8"
         },
         "yaxis": "y"
        },
        {
         "line": {
          "color": "rgba(250, 0, 0, 0.4)",
          "width": 1
         },
         "name": "BB Upper",
         "type": "scatter",
         "x": [
          "2025-05-02T09:00:00.000000000",
          "2025-05-02T10:00:00.000000000",
          "2025-05-02T11:00:00.000000000",
          "2025-05-02T12:00:00.000000000",
          "2025-05-02T13:00:00.000000000",
          "2025-05-02T14:00:00.000000000",
          "2025-05-02T15:00:00.000000000",
          "2025-05-02T16:00:00.000000000",
          "2025-05-02T17:00:00.000000000",
          "2025-05-02T18:00:00.000000000",
          "2025-05-02T19:00:00.000000000",
          "2025-05-02T20:00:00.000000000",
          "2025-05-02T21:00:00.000000000",
          "2025-05-02T22:00:00.000000000",
          "2025-05-02T23:00:00.000000000",
          "2025-05-03T00:00:00.000000000",
          "2025-05-03T01:00:00.000000000",
          "2025-05-03T02:00:00.000000000",
          "2025-05-03T03:00:00.000000000",
          "2025-05-03T04:00:00.000000000",
          "2025-05-03T05:00:00.000000000",
          "2025-05-03T06:00:00.000000000",
          "2025-05-03T07:00:00.000000000",
          "2025-05-03T08:00:00.000000000",
          "2025-05-03T09:00:00.000000000",
          "2025-05-03T10:00:00.000000000",
          "2025-05-03T11:00:00.000000000",
          "2025-05-03T12:00:00.000000000",
          "2025-05-03T13:00:00.000000000",
          "2025-05-03T14:00:00.000000000",
          "2025-05-03T15:00:00.000000000",
          "2025-05-03T16:00:00.000000000",
          "2025-05-03T17:00:00.000000000",
          "2025-05-03T18:00:00.000000000",
          "2025-05-03T19:00:00.000000000",
          "2025-05-03T20:00:00.000000000",
          "2025-05-03T21:00:00.000000000",
          "2025-05-03T22:00:00.000000000",
          "2025-05-03T23:00:00.000000000",
          "2025-05-04T00:00:00.000000000",
          "2025-05-04T01:00:00.000000000",
          "2025-05-04T02:00:00.000000000",
          "2025-05-04T03:00:00.000000000",
          "2025-05-04T04:00:00.000000000",
          "2025-05-04T05:00:00.000000000",
          "2025-05-04T06:00:00.000000000",
          "2025-05-04T07:00:00.000000000",
          "2025-05-04T08:00:00.000000000",
          "2025-05-04T09:00:00.000000000",
          "2025-05-04T10:00:00.000000000",
          "2025-05-04T11:00:00.000000000",
          "2025-05-04T12:00:00.000000000",
          "2025-05-04T13:00:00.000000000",
          "2025-05-04T14:00:00.000000000",
          "2025-05-04T15:00:00.000000000",
          "2025-05-04T16:00:00.000000000",
          "2025-05-04T17:00:00.000000000",
          "2025-05-04T18:00:00.000000000",
          "2025-05-04T19:00:00.000000000",
          "2025-05-04T20:00:00.000000000",
          "2025-05-04T21:00:00.000000000",
          "2025-05-04T22:00:00.000000000",
          "2025-05-04T23:00:00.000000000",
          "2025-05-05T00:00:00.000000000",
          "2025-05-05T01:00:00.000000000",
          "2025-05-05T02:00:00.000000000",
          "2025-05-05T03:00:00.000000000",
          "2025-05-05T04:00:00.000000000",
          "2025-05-05T05:00:00.000000000",
          "2025-05-05T06:00:00.000000000",
          "2025-05-05T07:00:00.000000000",
          "2025-05-05T08:00:00.000000000",
          "2025-05-05T09:00:00.000000000",
          "2025-05-05T10:00:00.000000000",
          "2025-05-05T11:00:00.000000000",
          "2025-05-05T12:00:00.000000000",
          "2025-05-05T13:00:00.000000000",
          "2025-05-05T14:00:00.000000000",
          "2025-05-05T15:00:00.000000000",
          "2025-05-05T16:00:00.000000000",
          "2025-05-05T17:00:00.000000000",
          "2025-05-05T18:00:00.000000000",
          "2025-05-05T19:00:00.000000000",
          "2025-05-05T20:00:00.000000000",
          "2025-05-05T21:00:00.000000000",
          "2025-05-05T22:00:00.000000000",
          "2025-05-05T23:00:00.000000000",
          "2025-05-06T00:00:00.000000000",
          "2025-05-06T01:00:00.000000000",
          "2025-05-06T02:00:00.000000000",
          "2025-05-06T03:00:00.000000000",
          "2025-05-06T04:00:00.000000000",
          "2025-05-06T05:00:00.000000000",
          "2025-05-06T06:00:00.000000000",
          "2025-05-06T07:00:00.000000000",
          "2025-05-06T08:00:00.000000000",
          "2025-05-06T09:00:00.000000000",
          "2025-05-06T10:00:00.000000000",
          "2025-05-06T11:00:00.000000000",
          "2025-05-06T12:00:00.000000000",
          "2025-05-06T13:00:00.000000000",
          "2025-05-06T14:00:00.000000000",
          "2025-05-06T15:00:00.000000000",
          "2025-05-06T16:00:00.000000000",
          "2025-05-06T17:00:00.000000000",
          "2025-05-06T18:00:00.000000000",
          "2025-05-06T19:00:00.000000000",
          "2025-05-06T20:00:00.000000000",
          "2025-05-06T21:00:00.000000000",
          "2025-05-06T22:00:00.000000000",
          "2025-05-06T23:00:00.000000000",
          "2025-05-07T00:00:00.000000000",
          "2025-05-07T01:00:00.000000000",
          "2025-05-07T02:00:00.000000000",
          "2025-05-07T03:00:00.000000000",
          "2025-05-07T04:00:00.000000000",
          "2025-05-07T05:00:00.000000000",
          "2025-05-07T06:00:00.000000000",
          "2025-05-07T07:00:00.000000000",
          "2025-05-07T08:00:00.000000000"
         ],
         "xaxis": "x",
         "y": {
          "bdata": "AAAAAAAA+H8AAAAAAAD4fwAAAAAAAPh/AAAAAAAA+H8AAAAAAAD4fwAAAAAAAPh/AAAAAAAA+H8AAAAAAAD4fwAAAAAAAPh/AAAAAAAA+H8AAAAAAAD4fwAAAAAAAPh/AAAAAAAA+H8AAAAAAAD4fwAAAAAAAPh/AAAAAAAA+H8AAAAAAAD4fwAAAAAAAPh/AAAAAAAA+H8nnXbSdgCdQM0AE1bS+pxAkxp/ua77nEB/kHUm2f2cQCdzxVQ9/5xA5OiKQVQAnUCf2/K0B/+cQF6GZCZw/pxAskIYn4D0nEBz9HXNuumcQC/PYiwN4ZxAHVhC8kjWnECnbjcJJcycQByZHrsAypxAN5BOOkzInEASmPPZtsScQGGcXqyyxJxA9wDQM+HKnEAA5XSP2tCcQKXhXglg0JxAzULzBZHPnEC07PWJhdGcQOENT2p80pxA7/hmCJrSnECrb5keMNKcQFROEYgp2pxAD1FsTPzcnEBo/jVvot2cQGlxnXFr3ZxABgRgQ+HdnEAfZ64iJN6cQNeiKBpB3pxA2EynxMTdnEAyFkWGSt2cQONpP9ZA3JxAh8oCTdzanEAVXP9pXNmcQAlkf2T81ZxASfKt0ezQnEBKWy6wX9CcQKh6SY4q0JxA2HQ0cBzPnECNJJLDrdGcQEx/Qv7w2ZxA9CJP0W7bnEAUr4uio+ScQE1RcMBZ4JxAgc3vG0rfnEBi/+eHztycQL9IBuUP2pxAtmb8u9fXnEA0wNJcatecQGZA9HmJ1pxAlx9eRe3VnED+ddxRbtGcQH1oDMIjzJxASmU1UXDHnEBCj1765cGcQGqACokavZxAM+N8BEy2nEBlW9eX8aacQN8Jjulsl5xALVKOajSanEBDl4fhX5ycQGSqFs1hmpxA4agXZZOYnEDbJ+WkiZ6cQFuH4U6YnJxA4IsAGk6cnEAcD/QhGJycQOPIAYH/mZxA3rysD06SnEB3sU00W4ecQFAwABuggZxAhyRNgI+BnEAYZpxNeoGcQOzvJswNgpxAEMuhQWmDnEAD7eIGIoycQAeKnID4mZxAwaqG7oKinEA1aihhgbCcQHWnS+TrrJxAjL9kwk+pnECTeshNPqqcQMjOmQwuopxAHFnMOdGOnEAKaNcr5X2cQP74dukhcJxAeVXCo+lnnEBcRUJBUW2cQKpXTsjFdZxACH1a/y6YnEDXTfibVa+cQJ3mYDL+upxA5zq1ZljHnEAOc8fULdacQKVbYLvF5JxASqUFTY71nEACZK4rFQmdQBsahX0+Gp1A",
          "dtype": "f8"
         },
         "yaxis": "y"
        },
        {
         "fill": "tonexty",
         "fillcolor": "rgba(250, 0, 0, 0.1)",
         "line": {
          "color": "rgba(250, 0, 0, 0.4)",
          "width": 1
         },
         "name": "BB Lower",
         "type": "scatter",
         "x": [
          "2025-05-02T09:00:00.000000000",
          "2025-05-02T10:00:00.000000000",
          "2025-05-02T11:00:00.000000000",
          "2025-05-02T12:00:00.000000000",
          "2025-05-02T13:00:00.000000000",
          "2025-05-02T14:00:00.000000000",
          "2025-05-02T15:00:00.000000000",
          "2025-05-02T16:00:00.000000000",
          "2025-05-02T17:00:00.000000000",
          "2025-05-02T18:00:00.000000000",
          "2025-05-02T19:00:00.000000000",
          "2025-05-02T20:00:00.000000000",
          "2025-05-02T21:00:00.000000000",
          "2025-05-02T22:00:00.000000000",
          "2025-05-02T23:00:00.000000000",
          "2025-05-03T00:00:00.000000000",
          "2025-05-03T01:00:00.000000000",
          "2025-05-03T02:00:00.000000000",
          "2025-05-03T03:00:00.000000000",
          "2025-05-03T04:00:00.000000000",
          "2025-05-03T05:00:00.000000000",
          "2025-05-03T06:00:00.000000000",
          "2025-05-03T07:00:00.000000000",
          "2025-05-03T08:00:00.000000000",
          "2025-05-03T09:00:00.000000000",
          "2025-05-03T10:00:00.000000000",
          "2025-05-03T11:00:00.000000000",
          "2025-05-03T12:00:00.000000000",
          "2025-05-03T13:00:00.000000000",
          "2025-05-03T14:00:00.000000000",
          "2025-05-03T15:00:00.000000000",
          "2025-05-03T16:00:00.000000000",
          "2025-05-03T17:00:00.000000000",
          "2025-05-03T18:00:00.000000000",
          "2025-05-03T19:00:00.000000000",
          "2025-05-03T20:00:00.000000000",
          "2025-05-03T21:00:00.000000000",
          "2025-05-03T22:00:00.000000000",
          "2025-05-03T23:00:00.000000000",
          "2025-05-04T00:00:00.000000000",
          "2025-05-04T01:00:00.000000000",
          "2025-05-04T02:00:00.000000000",
          "2025-05-04T03:00:00.000000000",
          "2025-05-04T04:00:00.000000000",
          "2025-05-04T05:00:00.000000000",
          "2025-05-04T06:00:00.000000000",
          "2025-05-04T07:00:00.000000000",
          "2025-05-04T08:00:00.000000000",
          "2025-05-04T09:00:00.000000000",
          "2025-05-04T10:00:00.000000000",
          "2025-05-04T11:00:00.000000000",
          "2025-05-04T12:00:00.000000000",
          "2025-05-04T13:00:00.000000000",
          "2025-05-04T14:00:00.000000000",
          "2025-05-04T15:00:00.000000000",
          "2025-05-04T16:00:00.000000000",
          "2025-05-04T17:00:00.000000000",
          "2025-05-04T18:00:00.000000000",
          "2025-05-04T19:00:00.000000000",
          "2025-05-04T20:00:00.000000000",
          "2025-05-04T21:00:00.000000000",
          "2025-05-04T22:00:00.000000000",
          "2025-05-04T23:00:00.000000000",
          "2025-05-05T00:00:00.000000000",
          "2025-05-05T01:00:00.000000000",
          "2025-05-05T02:00:00.000000000",
          "2025-05-05T03:00:00.000000000",
          "2025-05-05T04:00:00.000000000",
          "2025-05-05T05:00:00.000000000",
          "2025-05-05T06:00:00.000000000",
          "2025-05-05T07:00:00.000000000",
          "2025-05-05T08:00:00.000000000",
          "2025-05-05T09:00:00.000000000",
          "2025-05-05T10:00:00.000000000",
          "2025-05-05T11:00:00.000000000",
          "2025-05-05T12:00:00.000000000",
          "2025-05-05T13:00:00.000000000",
          "2025-05-05T14:00:00.000000000",
          "2025-05-05T15:00:00.000000000",
          "2025-05-05T16:00:00.000000000",
          "2025-05-05T17:00:00.000000000",
          "2025-05-05T18:00:00.000000000",
          "2025-05-05T19:00:00.000000000",
          "2025-05-05T20:00:00.000000000",
          "2025-05-05T21:00:00.000000000",
          "2025-05-05T22:00:00.000000000",
          "2025-05-05T23:00:00.000000000",
          "2025-05-06T00:00:00.000000000",
          "2025-05-06T01:00:00.000000000",
          "2025-05-06T02:00:00.000000000",
          "2025-05-06T03:00:00.000000000",
          "2025-05-06T04:00:00.000000000",
          "2025-05-06T05:00:00.000000000",
          "2025-05-06T06:00:00.000000000",
          "2025-05-06T07:00:00.000000000",
          "2025-05-06T08:00:00.000000000",
          "2025-05-06T09:00:00.000000000",
          "2025-05-06T10:00:00.000000000",
          "2025-05-06T11:00:00.000000000",
          "2025-05-06T12:00:00.000000000",
          "2025-05-06T13:00:00.000000000",
          "2025-05-06T14:00:00.000000000",
          "2025-05-06T15:00:00.000000000",
          "2025-05-06T16:00:00.000000000",
          "2025-05-06T17:00:00.000000000",
          "2025-05-06T18:00:00.000000000",
          "2025-05-06T19:00:00.000000000",
          "2025-05-06T20:00:00.000000000",
          "2025-05-06T21:00:00.000000000",
          "2025-05-06T22:00:00.000000000",
          "2025-05-06T23:00:00.000000000",
          "2025-05-07T00:00:00.000000000",
          "2025-05-07T01:00:00.000000000",
          "2025-05-07T02:00:00.000000000",
          "2025-05-07T03:00:00.000000000",
          "2025-05-07T04:00:00.000000000",
          "2025-05-07T05:00:00.000000000",
          "2025-05-07T06:00:00.000000000",
          "2025-05-07T07:00:00.000000000",
          "2025-05-07T08:00:00.000000000"
         ],
         "xaxis": "x",
         "y": {
          "bdata": "AAAAAAAA+H8AAAAAAAD4fwAAAAAAAPh/AAAAAAAA+H8AAAAAAAD4fwAAAAAAAPh/AAAAAAAA+H8AAAAAAAD4fwAAAAAAAPh/AAAAAAAA+H8AAAAAAAD4fwAAAAAAAPh/AAAAAAAA+H8AAAAAAAD4fwAAAAAAAPh/AAAAAAAA+H8AAAAAAAD4fwAAAAAAAPh/AAAAAAAA+H9//k1OuXqcQAl41tBehZxAd5GdoLWDnEAbCSRzwH6cQFXMbwn9dpxAeKY3tFRznEDbOLuS2WicQPIGM0iiYpxA5ABzzWZjnECTjB92UGecQIulMOx2apxAnxxRJjtvnECd8a3HfXGcQATszJY3bpxAWQcg2DZsnEASQwalM26cQGWEUcY1bpxAc5AdSd5snEAW9FloeWqcQOVfAdxwapxA+QhEg7BqnEAcNuVveWqcQFmmeQxCbJxAITRLlVVunEB1QNlJ4XCcQED1eeQ9cJxAq80Yn9V3nEDojmH/732cQMNAAH68fpxAIC2oaDt7nEDHaXS41XecQIltLx/zdJxABAPm0ql2nEBI/mjBlnecQL3bdh29epxAw0H/3Sp5nEBn4zX0XXacQKcO6SxxdJxAy5AS+bRynECSydfQNXGcQEyDi+o+cZxA7ID063JxnEBpL1HibWicQOoJ/2H0VpxAXGpInaNPnEAcLplj3TCcQAM8J664IpxAw718yzERnEDoDBqjOAmcQK1zbq6IB5xA5oirCvQGnEDW60n9+QacQOSghpokB5xAvxlWgwkHnECse/b78wCcQKdy7bzG+5tA4nfvtJD3m0BoYnRTfPWbQAoTDnu78ZtA6XbnNpPtm0AL4jI/svGbQAFxhsTa+JtAKbyeR+n3m0CNYMwBxvibQMbc/wvt95tA/9H8SLQDnEDveWARagicQPXaLgmhFJxALKGxg6EYnEDKlqeiCBScQC1ksBxwD5xAxrOQ+ggPnEDdMVhnaRGcQLDP/+RfDZxASdMGYxYOnEB4h+Dxug6cQJr7KuyQDJxAvAEri+MGnEDdNyN6c/abQG0JfINd3ptA5fA9Mq3Im0DRFm3iiaSbQKeyGFdzkptAuPaOO4WDm0A5J31oNXCbQGKN9bXHZJtANDTLNMFpm0Dqlf1MhGybQPYEXo/HaptAw7QUAIdnm0CECktWHWWbQCwhm17rYJtAlHJNx5xMm0Cz82dJ+0KbQG3wQj6/PptAbX1pHpM6m0AmwGtehTabQGv82PgCNJtAgPw/aWU1m0CYNettBDubQMmLFkdiQ5tA",
          "dtype": "f8"
         },
         "yaxis": "y"
        },
        {
         "marker": {
          "color": "green",
          "size": 8,
          "symbol": "circle-open"
         },
         "mode": "markers",
         "showlegend": false,
         "type": "scatter",
         "x": [
          "2025-05-02T09:00:00"
         ],
         "xaxis": "x",
         "y": [
          1820.44
         ],
         "yaxis": "y"
        },
        {
         "marker": {
          "color": "green",
          "size": 8,
          "symbol": "circle-open"
         },
         "mode": "markers",
         "showlegend": false,
         "type": "scatter",
         "x": [
          "2025-05-02T10:00:00"
         ],
         "xaxis": "x",
         "y": [
          1820.68
         ],
         "yaxis": "y"
        },
        {
         "marker": {
          "color": "green",
          "size": 8,
          "symbol": "circle-open"
         },
         "mode": "markers",
         "showlegend": false,
         "type": "scatter",
         "x": [
          "2025-05-02T12:00:00"
         ],
         "xaxis": "x",
         "y": [
          1823.34
         ],
         "yaxis": "y"
        },
        {
         "marker": {
          "color": "green",
          "size": 8,
          "symbol": "circle-open"
         },
         "mode": "markers",
         "showlegend": false,
         "type": "scatter",
         "x": [
          "2025-05-05T01:00:00"
         ],
         "xaxis": "x",
         "y": [
          1781.85
         ],
         "yaxis": "y"
        },
        {
         "marker": {
          "color": "green",
          "size": 8,
          "symbol": "circle-open"
         },
         "mode": "markers",
         "showlegend": false,
         "type": "scatter",
         "x": [
          "2025-05-05T02:00:00"
         ],
         "xaxis": "x",
         "y": [
          1781.9
         ],
         "yaxis": "y"
        },
        {
         "marker": {
          "color": "green",
          "size": 8,
          "symbol": "circle-open"
         },
         "mode": "markers",
         "showlegend": false,
         "type": "scatter",
         "x": [
          "2025-05-06T13:00:00"
         ],
         "xaxis": "x",
         "y": [
          1752
         ],
         "yaxis": "y"
        },
        {
         "marker": {
          "color": "green",
          "size": 8,
          "symbol": "circle-open"
         },
         "mode": "markers",
         "showlegend": false,
         "type": "scatter",
         "x": [
          "2025-05-06T14:00:00"
         ],
         "xaxis": "x",
         "y": [
          1759.15
         ],
         "yaxis": "y"
        },
        {
         "marker": {
          "color": "green",
          "size": 8,
          "symbol": "circle-open"
         },
         "mode": "markers",
         "showlegend": false,
         "type": "scatter",
         "x": [
          "2025-05-06T13:00:00"
         ],
         "xaxis": "x",
         "y": [
          1752
         ],
         "yaxis": "y"
        },
        {
         "marker": {
          "color": "green",
          "size": 8,
          "symbol": "circle-open"
         },
         "mode": "markers",
         "showlegend": false,
         "type": "scatter",
         "x": [
          "2025-05-06T14:00:00"
         ],
         "xaxis": "x",
         "y": [
          1759.15
         ],
         "yaxis": "y"
        },
        {
         "marker": {
          "color": "green",
          "size": 8,
          "symbol": "circle-open"
         },
         "mode": "markers",
         "showlegend": false,
         "type": "scatter",
         "x": [
          "2025-05-06T15:00:00"
         ],
         "xaxis": "x",
         "y": [
          1760.49
         ],
         "yaxis": "y"
        },
        {
         "marker": {
          "color": "green",
          "size": 8,
          "symbol": "circle-open"
         },
         "mode": "markers",
         "showlegend": false,
         "type": "scatter",
         "x": [
          "2025-05-06T16:00:00"
         ],
         "xaxis": "x",
         "y": [
          1762.16
         ],
         "yaxis": "y"
        },
        {
         "marker": {
          "color": "green",
          "size": 8,
          "symbol": "circle-open"
         },
         "mode": "markers",
         "showlegend": false,
         "type": "scatter",
         "x": [
          "2025-05-06T17:00:00"
         ],
         "xaxis": "x",
         "y": [
          1762.97
         ],
         "yaxis": "y"
        },
        {
         "marker": {
          "color": "green",
          "size": 8,
          "symbol": "circle-open"
         },
         "mode": "markers",
         "showlegend": false,
         "type": "scatter",
         "x": [
          "2025-05-06T18:00:00"
         ],
         "xaxis": "x",
         "y": [
          1766.8
         ],
         "yaxis": "y"
        },
        {
         "marker": {
          "color": "green",
          "size": 8,
          "symbol": "circle-open"
         },
         "mode": "markers",
         "showlegend": false,
         "type": "scatter",
         "x": [
          "2025-05-06T20:00:00"
         ],
         "xaxis": "x",
         "y": [
          1768.49
         ],
         "yaxis": "y"
        },
        {
         "marker": {
          "color": "green",
          "size": 8,
          "symbol": "circle-open"
         },
         "mode": "markers",
         "showlegend": false,
         "type": "scatter",
         "x": [
          "2025-05-06T21:00:00"
         ],
         "xaxis": "x",
         "y": [
          1765.5
         ],
         "yaxis": "y"
        },
        {
         "marker": {
          "color": "green",
          "size": 8,
          "symbol": "circle-open"
         },
         "mode": "markers",
         "showlegend": false,
         "type": "scatter",
         "x": [
          "2025-05-06T22:00:00"
         ],
         "xaxis": "x",
         "y": [
          1775.65
         ],
         "yaxis": "y"
        },
        {
         "marker": {
          "color": "green",
          "size": 8,
          "symbol": "circle-open"
         },
         "mode": "markers",
         "showlegend": false,
         "type": "scatter",
         "x": [
          "2025-05-06T21:00:00"
         ],
         "xaxis": "x",
         "y": [
          1765.5
         ],
         "yaxis": "y"
        },
        {
         "marker": {
          "color": "green",
          "size": 8,
          "symbol": "circle-open"
         },
         "mode": "markers",
         "showlegend": false,
         "type": "scatter",
         "x": [
          "2025-05-06T22:00:00"
         ],
         "xaxis": "x",
         "y": [
          1775.65
         ],
         "yaxis": "y"
        },
        {
         "marker": {
          "color": "green",
          "size": 8,
          "symbol": "circle-open"
         },
         "mode": "markers",
         "showlegend": false,
         "type": "scatter",
         "x": [
          "2025-05-07T05:00:00"
         ],
         "xaxis": "x",
         "y": [
          1825.6
         ],
         "yaxis": "y"
        },
        {
         "marker": {
          "color": "green",
          "size": 8,
          "symbol": "circle-open"
         },
         "mode": "markers",
         "showlegend": false,
         "type": "scatter",
         "x": [
          "2025-05-07T06:00:00"
         ],
         "xaxis": "x",
         "y": [
          1826.16
         ],
         "yaxis": "y"
        },
        {
         "marker": {
          "color": "green",
          "size": 8,
          "symbol": "circle-open"
         },
         "mode": "markers",
         "showlegend": false,
         "type": "scatter",
         "x": [
          "2025-05-07T07:00:00"
         ],
         "xaxis": "x",
         "y": [
          1830.1
         ],
         "yaxis": "y"
        },
        {
         "marker": {
          "color": "green",
          "size": 8,
          "symbol": "circle-open"
         },
         "mode": "markers",
         "showlegend": false,
         "type": "scatter",
         "x": [
          "2025-05-07T08:00:00"
         ],
         "xaxis": "x",
         "y": [
          1837.71
         ],
         "yaxis": "y"
        },
        {
         "marker": {
          "color": "red",
          "size": 8,
          "symbol": "circle-open"
         },
         "mode": "markers",
         "showlegend": false,
         "type": "scatter",
         "x": [
          "2025-05-02T16:00:00"
         ],
         "xaxis": "x",
         "y": [
          1871
         ],
         "yaxis": "y"
        },
        {
         "marker": {
          "color": "red",
          "size": 8,
          "symbol": "circle-open"
         },
         "mode": "markers",
         "showlegend": false,
         "type": "scatter",
         "x": [
          "2025-05-07T00:00:00"
         ],
         "xaxis": "x",
         "y": [
          1847.77
         ],
         "yaxis": "y"
        },
        {
         "marker": {
          "color": "red",
          "size": 8,
          "symbol": "circle-open"
         },
         "mode": "markers",
         "showlegend": false,
         "type": "scatter",
         "x": [
          "2025-05-07T01:00:00"
         ],
         "xaxis": "x",
         "y": [
          1850
         ],
         "yaxis": "y"
        },
        {
         "marker": {
          "color": "red",
          "size": 8,
          "symbol": "circle-open"
         },
         "mode": "markers",
         "showlegend": false,
         "type": "scatter",
         "x": [
          "2025-05-07T08:00:00"
         ],
         "xaxis": "x",
         "y": [
          1840.4
         ],
         "yaxis": "y"
        },
        {
         "marker": {
          "color": "red",
          "size": 8,
          "symbol": "circle-open"
         },
         "mode": "markers",
         "showlegend": false,
         "type": "scatter",
         "x": [
          "2025-05-02T09:00:00"
         ],
         "xaxis": "x",
         "y": [
          1827.3
         ],
         "yaxis": "y"
        },
        {
         "marker": {
          "color": "red",
          "size": 8,
          "symbol": "circle-open"
         },
         "mode": "markers",
         "showlegend": false,
         "type": "scatter",
         "x": [
          "2025-05-02T10:00:00"
         ],
         "xaxis": "x",
         "y": [
          1835.18
         ],
         "yaxis": "y"
        },
        {
         "marker": {
          "color": "red",
          "size": 8,
          "symbol": "circle-open"
         },
         "mode": "markers",
         "showlegend": false,
         "type": "scatter",
         "x": [
          "2025-05-02T11:00:00"
         ],
         "xaxis": "x",
         "y": [
          1835.53
         ],
         "yaxis": "y"
        },
        {
         "marker": {
          "color": "red",
          "size": 8,
          "symbol": "circle-open"
         },
         "mode": "markers",
         "showlegend": false,
         "type": "scatter",
         "x": [
          "2025-05-02T12:00:00"
         ],
         "xaxis": "x",
         "y": [
          1844.73
         ],
         "yaxis": "y"
        },
        {
         "marker": {
          "color": "red",
          "size": 8,
          "symbol": "circle-open"
         },
         "mode": "markers",
         "showlegend": false,
         "type": "scatter",
         "x": [
          "2025-05-02T14:00:00"
         ],
         "xaxis": "x",
         "y": [
          1851.87
         ],
         "yaxis": "y"
        },
        {
         "marker": {
          "color": "red",
          "size": 8,
          "symbol": "circle-open"
         },
         "mode": "markers",
         "showlegend": false,
         "type": "scatter",
         "x": [
          "2025-05-02T16:00:00"
         ],
         "xaxis": "x",
         "y": [
          1871
         ],
         "yaxis": "y"
        },
        {
         "marker": {
          "color": "red",
          "size": 8,
          "symbol": "circle-open"
         },
         "mode": "markers",
         "showlegend": false,
         "type": "scatter",
         "x": [
          "2025-05-07T00:00:00"
         ],
         "xaxis": "x",
         "y": [
          1847.77
         ],
         "yaxis": "y"
        },
        {
         "marker": {
          "color": "red",
          "size": 8,
          "symbol": "circle-open"
         },
         "mode": "markers",
         "showlegend": false,
         "type": "scatter",
         "x": [
          "2025-05-07T01:00:00"
         ],
         "xaxis": "x",
         "y": [
          1850
         ],
         "yaxis": "y"
        },
        {
         "marker": {
          "color": "red",
          "size": 8,
          "symbol": "circle-open"
         },
         "mode": "markers",
         "showlegend": false,
         "type": "scatter",
         "x": [
          "2025-05-07T06:00:00"
         ],
         "xaxis": "x",
         "y": [
          1834.38
         ],
         "yaxis": "y"
        },
        {
         "marker": {
          "color": "red",
          "size": 8,
          "symbol": "circle-open"
         },
         "mode": "markers",
         "showlegend": false,
         "type": "scatter",
         "x": [
          "2025-05-07T07:00:00"
         ],
         "xaxis": "x",
         "y": [
          1838.43
         ],
         "yaxis": "y"
        },
        {
         "marker": {
          "color": "red",
          "size": 8,
          "symbol": "circle-open"
         },
         "mode": "markers",
         "showlegend": false,
         "type": "scatter",
         "x": [
          "2025-05-07T08:00:00"
         ],
         "xaxis": "x",
         "y": [
          1840.4
         ],
         "yaxis": "y"
        },
        {
         "marker": {
          "color": [
           "red",
           "green",
           "green",
           "green",
           "red",
           "green",
           "red",
           "green",
           "red",
           "red",
           "green",
           "green",
           "red",
           "red",
           "green",
           "red",
           "red",
           "green",
           "green",
           "green",
           "red",
           "red",
           "red",
           "red",
           "green",
           "red",
           "green",
           "green",
           "green",
           "green",
           "red",
           "red",
           "red",
           "green",
           "green",
           "green",
           "green",
           "green",
           "red",
           "green",
           "green",
           "red",
           "red",
           "red",
           "green",
           "red",
           "red",
           "red",
           "red",
           "red",
           "green",
           "green",
           "red",
           "green",
           "red",
           "red",
           "red",
           "red",
           "green",
           "green",
           "red",
           "red",
           "red",
           "green",
           "red",
           "green",
           "red",
           "green",
           "green",
           "green",
           "green",
           "green",
           "red",
           "red",
           "red",
           "green",
           "green",
           "red",
           "red",
           "green",
           "green",
           "green",
           "red",
           "red",
           "green",
           "green",
           "red",
           "red",
           "red",
           "red",
           "green",
           "green",
           "red",
           "green",
           "red",
           "red",
           "red",
           "red",
           "red",
           "green",
           "red",
           "green",
           "green",
           "red",
           "green",
           "green",
           "red",
           "red",
           "green",
           "green",
           "green",
           "green",
           "red",
           "red",
           "green",
           "green",
           "red",
           "green",
           "green",
           "green"
          ]
         },
         "name": "Volume",
         "type": "bar",
         "x": [
          "2025-05-02T09:00:00.000000000",
          "2025-05-02T10:00:00.000000000",
          "2025-05-02T11:00:00.000000000",
          "2025-05-02T12:00:00.000000000",
          "2025-05-02T13:00:00.000000000",
          "2025-05-02T14:00:00.000000000",
          "2025-05-02T15:00:00.000000000",
          "2025-05-02T16:00:00.000000000",
          "2025-05-02T17:00:00.000000000",
          "2025-05-02T18:00:00.000000000",
          "2025-05-02T19:00:00.000000000",
          "2025-05-02T20:00:00.000000000",
          "2025-05-02T21:00:00.000000000",
          "2025-05-02T22:00:00.000000000",
          "2025-05-02T23:00:00.000000000",
          "2025-05-03T00:00:00.000000000",
          "2025-05-03T01:00:00.000000000",
          "2025-05-03T02:00:00.000000000",
          "2025-05-03T03:00:00.000000000",
          "2025-05-03T04:00:00.000000000",
          "2025-05-03T05:00:00.000000000",
          "2025-05-03T06:00:00.000000000",
          "2025-05-03T07:00:00.000000000",
          "2025-05-03T08:00:00.000000000",
          "2025-05-03T09:00:00.000000000",
          "2025-05-03T10:00:00.000000000",
          "2025-05-03T11:00:00.000000000",
          "2025-05-03T12:00:00.000000000",
          "2025-05-03T13:00:00.000000000",
          "2025-05-03T14:00:00.000000000",
          "2025-05-03T15:00:00.000000000",
          "2025-05-03T16:00:00.000000000",
          "2025-05-03T17:00:00.000000000",
          "2025-05-03T18:00:00.000000000",
          "2025-05-03T19:00:00.000000000",
          "2025-05-03T20:00:00.000000000",
          "2025-05-03T21:00:00.000000000",
          "2025-05-03T22:00:00.000000000",
          "2025-05-03T23:00:00.000000000",
          "2025-05-04T00:00:00.000000000",
          "2025-05-04T01:00:00.000000000",
          "2025-05-04T02:00:00.000000000",
          "2025-05-04T03:00:00.000000000",
          "2025-05-04T04:00:00.000000000",
          "2025-05-04T05:00:00.000000000",
          "2025-05-04T06:00:00.000000000",
          "2025-05-04T07:00:00.000000000",
          "2025-05-04T08:00:00.000000000",
          "2025-05-04T09:00:00.000000000",
          "2025-05-04T10:00:00.000000000",
          "2025-05-04T11:00:00.000000000",
          "2025-05-04T12:00:00.000000000",
          "2025-05-04T13:00:00.000000000",
          "2025-05-04T14:00:00.000000000",
          "2025-05-04T15:00:00.000000000",
          "2025-05-04T16:00:00.000000000",
          "2025-05-04T17:00:00.000000000",
          "2025-05-04T18:00:00.000000000",
          "2025-05-04T19:00:00.000000000",
          "2025-05-04T20:00:00.000000000",
          "2025-05-04T21:00:00.000000000",
          "2025-05-04T22:00:00.000000000",
          "2025-05-04T23:00:00.000000000",
          "2025-05-05T00:00:00.000000000",
          "2025-05-05T01:00:00.000000000",
          "2025-05-05T02:00:00.000000000",
          "2025-05-05T03:00:00.000000000",
          "2025-05-05T04:00:00.000000000",
          "2025-05-05T05:00:00.000000000",
          "2025-05-05T06:00:00.000000000",
          "2025-05-05T07:00:00.000000000",
          "2025-05-05T08:00:00.000000000",
          "2025-05-05T09:00:00.000000000",
          "2025-05-05T10:00:00.000000000",
          "2025-05-05T11:00:00.000000000",
          "2025-05-05T12:00:00.000000000",
          "2025-05-05T13:00:00.000000000",
          "2025-05-05T14:00:00.000000000",
          "2025-05-05T15:00:00.000000000",
          "2025-05-05T16:00:00.000000000",
          "2025-05-05T17:00:00.000000000",
          "2025-05-05T18:00:00.000000000",
          "2025-05-05T19:00:00.000000000",
          "2025-05-05T20:00:00.000000000",
          "2025-05-05T21:00:00.000000000",
          "2025-05-05T22:00:00.000000000",
          "2025-05-05T23:00:00.000000000",
          "2025-05-06T00:00:00.000000000",
          "2025-05-06T01:00:00.000000000",
          "2025-05-06T02:00:00.000000000",
          "2025-05-06T03:00:00.000000000",
          "2025-05-06T04:00:00.000000000",
          "2025-05-06T05:00:00.000000000",
          "2025-05-06T06:00:00.000000000",
          "2025-05-06T07:00:00.000000000",
          "2025-05-06T08:00:00.000000000",
          "2025-05-06T09:00:00.000000000",
          "2025-05-06T10:00:00.000000000",
          "2025-05-06T11:00:00.000000000",
          "2025-05-06T12:00:00.000000000",
          "2025-05-06T13:00:00.000000000",
          "2025-05-06T14:00:00.000000000",
          "2025-05-06T15:00:00.000000000",
          "2025-05-06T16:00:00.000000000",
          "2025-05-06T17:00:00.000000000",
          "2025-05-06T18:00:00.000000000",
          "2025-05-06T19:00:00.000000000",
          "2025-05-06T20:00:00.000000000",
          "2025-05-06T21:00:00.000000000",
          "2025-05-06T22:00:00.000000000",
          "2025-05-06T23:00:00.000000000",
          "2025-05-07T00:00:00.000000000",
          "2025-05-07T01:00:00.000000000",
          "2025-05-07T02:00:00.000000000",
          "2025-05-07T03:00:00.000000000",
          "2025-05-07T04:00:00.000000000",
          "2025-05-07T05:00:00.000000000",
          "2025-05-07T06:00:00.000000000",
          "2025-05-07T07:00:00.000000000",
          "2025-05-07T08:00:00.000000000"
         ],
         "xaxis": "x2",
         "y": {
          "bdata": "0ETY8HwJxUDr4jYa4ALTQKkT0ESIo8ZAcT0K19Eb4UBkXdxG74nVQDtwzoicnOFAescpOmoH1kA7AU2E//jmQNqs+lxdyM1Ax7q4jQ5awkCRD3o2q9p3QOjZrPoc579AV+wvu6dmwECSXP5Dejm+QFdbsb8sALlAZMxdS1jwtECWQ4tsx7vEQAtGJXXCpr5AwhcmUxWvskCwcmiRrYizQEJg5dDCxatACKwcWnyRxUC0yHa+r8m5QMSxLm5z0sFA9+RhoZ5AxUCe76fGO+7EQCntDb7A3b9Asi5uo2mQwUDDZKpgJP/BQF+YTBVcZMFAkDF3LYEzwEA2PL1S3rDBQGKh1jSHotVAumsJ+chNwEDl0CLbCZu/QOhqK/YnV7VA7MA5I9oZx0AoDwu1xiK/QEATYcMr8cZAhJ7Nqu+aw0CfzarPFcHCQFYOLbKtzMVAH/RsVv3PuUAYldQJqGiyQOY/pN8GV85A+THmrpWDxUDtDb4waV+/QH2utmIHd8RAguLHmFMFy0DZX3ZPnjK/QHh6pSwbQ8JAPnlYqGWNvEByio7kKoLGQIzbaACfDbpARpT2Bi/gwEB90LNZhQbGQM07TtEBW7pAswxxrOtmsUCjI7n8F56wQD2bVZ/rOsRAlrIMcYwxsED/If32hajSQFR0JJf30dhAVcGopH4yx0CBJsKGb/LhQEi/fR3YaNtABOeMKK0xwkAPnDOipM7EQJhuEoMwlcVAGw3gLXhAzUDek4eFauzIQDLmriWUcsRAmpmZmSlUw0CDL0ym/pXXQOLplbIUJ8pA9+RhoT4dyEC7Jw8L2V7TQDC7Jw+TANJAWKg1zTOpyECfq63YB97FQE7RkVx2OsJACtejcP1ox0CQMXctEYrFQGq8dJNQsMBAYqHWNK/Cu0Ba9bnawsLQQLgehetZUMJAjZduEmMHvUA/NV66EWTGQP8h/fbtmdNAzczMzPwiw0DWxW00gHG2QJ2AJsLGA7pAaQBvgXQSskC8BRIUz567QPkP6bf/281AiPTb14lmwUB2Tx4Wmj7NQG1Wfa7G89hADXGsi89A1ED0/dR4vT7dQD/G3LVsqdJAIEHxY6x0zkAJG55e6RLLQMcpOpLr4slAC7Wmed/zx0AwuycPD83TQMnlP6T/fclA3pOHhbKNwUCdgCbCQIbiQHbgnBF94tlAescpOm5j6kDP91PjK+PgQNzXgXOmDdZAdEaU9vbWzEADeAskoCPHQDlFR3JpJ7pAdZMYBC4/w0ClLEMcA8fCQD81XroJsZBA",
          "dtype": "f8"
         },
         "yaxis": "y2"
        },
        {
         "line": {
          "color": "purple",
          "width": 1
         },
         "name": "RSI",
         "type": "scatter",
         "x": [
          "2025-05-02T09:00:00.000000000",
          "2025-05-02T10:00:00.000000000",
          "2025-05-02T11:00:00.000000000",
          "2025-05-02T12:00:00.000000000",
          "2025-05-02T13:00:00.000000000",
          "2025-05-02T14:00:00.000000000",
          "2025-05-02T15:00:00.000000000",
          "2025-05-02T16:00:00.000000000",
          "2025-05-02T17:00:00.000000000",
          "2025-05-02T18:00:00.000000000",
          "2025-05-02T19:00:00.000000000",
          "2025-05-02T20:00:00.000000000",
          "2025-05-02T21:00:00.000000000",
          "2025-05-02T22:00:00.000000000",
          "2025-05-02T23:00:00.000000000",
          "2025-05-03T00:00:00.000000000",
          "2025-05-03T01:00:00.000000000",
          "2025-05-03T02:00:00.000000000",
          "2025-05-03T03:00:00.000000000",
          "2025-05-03T04:00:00.000000000",
          "2025-05-03T05:00:00.000000000",
          "2025-05-03T06:00:00.000000000",
          "2025-05-03T07:00:00.000000000",
          "2025-05-03T08:00:00.000000000",
          "2025-05-03T09:00:00.000000000",
          "2025-05-03T10:00:00.000000000",
          "2025-05-03T11:00:00.000000000",
          "2025-05-03T12:00:00.000000000",
          "2025-05-03T13:00:00.000000000",
          "2025-05-03T14:00:00.000000000",
          "2025-05-03T15:00:00.000000000",
          "2025-05-03T16:00:00.000000000",
          "2025-05-03T17:00:00.000000000",
          "2025-05-03T18:00:00.000000000",
          "2025-05-03T19:00:00.000000000",
          "2025-05-03T20:00:00.000000000",
          "2025-05-03T21:00:00.000000000",
          "2025-05-03T22:00:00.000000000",
          "2025-05-03T23:00:00.000000000",
          "2025-05-04T00:00:00.000000000",
          "2025-05-04T01:00:00.000000000",
          "2025-05-04T02:00:00.000000000",
          "2025-05-04T03:00:00.000000000",
          "2025-05-04T04:00:00.000000000",
          "2025-05-04T05:00:00.000000000",
          "2025-05-04T06:00:00.000000000",
          "2025-05-04T07:00:00.000000000",
          "2025-05-04T08:00:00.000000000",
          "2025-05-04T09:00:00.000000000",
          "2025-05-04T10:00:00.000000000",
          "2025-05-04T11:00:00.000000000",
          "2025-05-04T12:00:00.000000000",
          "2025-05-04T13:00:00.000000000",
          "2025-05-04T14:00:00.000000000",
          "2025-05-04T15:00:00.000000000",
          "2025-05-04T16:00:00.000000000",
          "2025-05-04T17:00:00.000000000",
          "2025-05-04T18:00:00.000000000",
          "2025-05-04T19:00:00.000000000",
          "2025-05-04T20:00:00.000000000",
          "2025-05-04T21:00:00.000000000",
          "2025-05-04T22:00:00.000000000",
          "2025-05-04T23:00:00.000000000",
          "2025-05-05T00:00:00.000000000",
          "2025-05-05T01:00:00.000000000",
          "2025-05-05T02:00:00.000000000",
          "2025-05-05T03:00:00.000000000",
          "2025-05-05T04:00:00.000000000",
          "2025-05-05T05:00:00.000000000",
          "2025-05-05T06:00:00.000000000",
          "2025-05-05T07:00:00.000000000",
          "2025-05-05T08:00:00.000000000",
          "2025-05-05T09:00:00.000000000",
          "2025-05-05T10:00:00.000000000",
          "2025-05-05T11:00:00.000000000",
          "2025-05-05T12:00:00.000000000",
          "2025-05-05T13:00:00.000000000",
          "2025-05-05T14:00:00.000000000",
          "2025-05-05T15:00:00.000000000",
          "2025-05-05T16:00:00.000000000",
          "2025-05-05T17:00:00.000000000",
          "2025-05-05T18:00:00.000000000",
          "2025-05-05T19:00:00.000000000",
          "2025-05-05T20:00:00.000000000",
          "2025-05-05T21:00:00.000000000",
          "2025-05-05T22:00:00.000000000",
          "2025-05-05T23:00:00.000000000",
          "2025-05-06T00:00:00.000000000",
          "2025-05-06T01:00:00.000000000",
          "2025-05-06T02:00:00.000000000",
          "2025-05-06T03:00:00.000000000",
          "2025-05-06T04:00:00.000000000",
          "2025-05-06T05:00:00.000000000",
          "2025-05-06T06:00:00.000000000",
          "2025-05-06T07:00:00.000000000",
          "2025-05-06T08:00:00.000000000",
          "2025-05-06T09:00:00.000000000",
          "2025-05-06T10:00:00.000000000",
          "2025-05-06T11:00:00.000000000",
          "2025-05-06T12:00:00.000000000",
          "2025-05-06T13:00:00.000000000",
          "2025-05-06T14:00:00.000000000",
          "2025-05-06T15:00:00.000000000",
          "2025-05-06T16:00:00.000000000",
          "2025-05-06T17:00:00.000000000",
          "2025-05-06T18:00:00.000000000",
          "2025-05-06T19:00:00.000000000",
          "2025-05-06T20:00:00.000000000",
          "2025-05-06T21:00:00.000000000",
          "2025-05-06T22:00:00.000000000",
          "2025-05-06T23:00:00.000000000",
          "2025-05-07T00:00:00.000000000",
          "2025-05-07T01:00:00.000000000",
          "2025-05-07T02:00:00.000000000",
          "2025-05-07T03:00:00.000000000",
          "2025-05-07T04:00:00.000000000",
          "2025-05-07T05:00:00.000000000",
          "2025-05-07T06:00:00.000000000",
          "2025-05-07T07:00:00.000000000",
          "2025-05-07T08:00:00.000000000"
         ],
         "xaxis": "x3",
         "y": {
          "bdata": "AAAAAAAA+H8AAAAAAAD4fwAAAAAAAPh/AAAAAAAA+H8AAAAAAAD4fwAAAAAAAPh/AAAAAAAA+H8AAAAAAAD4fwAAAAAAAPh/AAAAAAAA+H8AAAAAAAD4fwAAAAAAAPh/AAAAAAAA+H/PVsKcRGpJQMflxq7TqkxA6YrB09fCSkCS1uB3YlRGQM+J/qqunEhArcEk6V8GSUBX3AVnR3lKQB10Hvx7M0hAs/EmnoW7RUDqXrGh/GJFQJ1RACXW7URANfGOTbokRkCovYLGx+tCQHl90Qbch0VAWNViGulGSEAckNY5375KQByQ1jnfvkpA4JstmQ1lSkA2TqwL59JGQJjFWAKigkVA99NWFcSQRkAR2S47Zh5MQOTefoW/TExAJ+js8XFATUDVERxT8O5NQDQjTZsmKklAJ5aFr0h/SkBHXBvMjOdKQL/IwiA5NUlAhV+acrcdSEBTIN+IPIFHQIkC1kDvCU5AB7Mfv0roTUDlaWmJh5BLQEVJwyMiP0dAPknLWb30RUDt+nU6fd5FQNb/EBxi/kVAyEYICA5cR0CTlBvWky1FQIhXoptFSkhAWEFRXvgZSEBCEYPmqcRGQBUaqTkAu0ZAV+1/fWDCRUDZG+RbAlNHQAxO9TK+bUtAKjFi+cD9SkDzRxiAT2BDQFDMPXX7s0BAoNa+WnMwREDE9B0uqEY9QBo0EJcqo0FAErr2zrunQECqi8npkmtEQA2nB2rx80dAhddcT+4ESUAslBzgy65KQBYAZf2gKEtALGzEA2SVSUCgPjhxCNJEQF2E4OqPykRAh/JSmRUiRUA/yvWf+jZGQCiMr9DEDEVAnPDRF6chREBHxerEyrxGQGXZ5/RS30hAk1fpd/FJS0DSNTJ5IEtJQEnU+FaKF0dALf4eGzV8SUCkCpKrbQNMQE4SvY5ILUpA3moPqmBsSED/QoaqVt9FQGRjdeIMqEVAj6m2KSSURkBqQfYGxMtGQJVF6YIGhURAta4z4QcxR0DLeJrUABZHQLtD2x+UwkVAAIrOA5mtRECMnFya6m1BQAg82F5E2z5AtM58TmDMPkBcpo3y6ks5QBR5skEJYkBA4noHlaoEQUDwbLhVVlI/QBJtkqmcoEFAicME0tWPSEDOl/F7cURHQF2N80oWKUVAhzj9rHdFRUBHw9o6xGdNQNj1W9QCZ05A2liGhXT9UED1YOyIKKJPQJJeIkC40k1A1u0pQg0RTkBXmvyt/GtOQDjqSEbmTk5AZnuEXinATkCA12hCExBQQNucQWdhIlBA",
          "dtype": "f8"
         },
         "yaxis": "y3"
        },
        {
         "line": {
          "color": "blue",
          "width": 1
         },
         "name": "MACD",
         "type": "scatter",
         "x": [
          "2025-05-02T09:00:00.000000000",
          "2025-05-02T10:00:00.000000000",
          "2025-05-02T11:00:00.000000000",
          "2025-05-02T12:00:00.000000000",
          "2025-05-02T13:00:00.000000000",
          "2025-05-02T14:00:00.000000000",
          "2025-05-02T15:00:00.000000000",
          "2025-05-02T16:00:00.000000000",
          "2025-05-02T17:00:00.000000000",
          "2025-05-02T18:00:00.000000000",
          "2025-05-02T19:00:00.000000000",
          "2025-05-02T20:00:00.000000000",
          "2025-05-02T21:00:00.000000000",
          "2025-05-02T22:00:00.000000000",
          "2025-05-02T23:00:00.000000000",
          "2025-05-03T00:00:00.000000000",
          "2025-05-03T01:00:00.000000000",
          "2025-05-03T02:00:00.000000000",
          "2025-05-03T03:00:00.000000000",
          "2025-05-03T04:00:00.000000000",
          "2025-05-03T05:00:00.000000000",
          "2025-05-03T06:00:00.000000000",
          "2025-05-03T07:00:00.000000000",
          "2025-05-03T08:00:00.000000000",
          "2025-05-03T09:00:00.000000000",
          "2025-05-03T10:00:00.000000000",
          "2025-05-03T11:00:00.000000000",
          "2025-05-03T12:00:00.000000000",
          "2025-05-03T13:00:00.000000000",
          "2025-05-03T14:00:00.000000000",
          "2025-05-03T15:00:00.000000000",
          "2025-05-03T16:00:00.000000000",
          "2025-05-03T17:00:00.000000000",
          "2025-05-03T18:00:00.000000000",
          "2025-05-03T19:00:00.000000000",
          "2025-05-03T20:00:00.000000000",
          "2025-05-03T21:00:00.000000000",
          "2025-05-03T22:00:00.000000000",
          "2025-05-03T23:00:00.000000000",
          "2025-05-04T00:00:00.000000000",
          "2025-05-04T01:00:00.000000000",
          "2025-05-04T02:00:00.000000000",
          "2025-05-04T03:00:00.000000000",
          "2025-05-04T04:00:00.000000000",
          "2025-05-04T05:00:00.000000000",
          "2025-05-04T06:00:00.000000000",
          "2025-05-04T07:00:00.000000000",
          "2025-05-04T08:00:00.000000000",
          "2025-05-04T09:00:00.000000000",
          "2025-05-04T10:00:00.000000000",
          "2025-05-04T11:00:00.000000000",
          "2025-05-04T12:00:00.000000000",
          "2025-05-04T13:00:00.000000000",
          "2025-05-04T14:00:00.000000000",
          "2025-05-04T15:00:00.000000000",
          "2025-05-04T16:00:00.000000000",
          "2025-05-04T17:00:00.000000000",
          "2025-05-04T18:00:00.000000000",
          "2025-05-04T19:00:00.000000000",
          "2025-05-04T20:00:00.000000000",
          "2025-05-04T21:00:00.000000000",
          "2025-05-04T22:00:00.000000000",
          "2025-05-04T23:00:00.000000000",
          "2025-05-05T00:00:00.000000000",
          "2025-05-05T01:00:00.000000000",
          "2025-05-05T02:00:00.000000000",
          "2025-05-05T03:00:00.000000000",
          "2025-05-05T04:00:00.000000000",
          "2025-05-05T05:00:00.000000000",
          "2025-05-05T06:00:00.000000000",
          "2025-05-05T07:00:00.000000000",
          "2025-05-05T08:00:00.000000000",
          "2025-05-05T09:00:00.000000000",
          "2025-05-05T10:00:00.000000000",
          "2025-05-05T11:00:00.000000000",
          "2025-05-05T12:00:00.000000000",
          "2025-05-05T13:00:00.000000000",
          "2025-05-05T14:00:00.000000000",
          "2025-05-05T15:00:00.000000000",
          "2025-05-05T16:00:00.000000000",
          "2025-05-05T17:00:00.000000000",
          "2025-05-05T18:00:00.000000000",
          "2025-05-05T19:00:00.000000000",
          "2025-05-05T20:00:00.000000000",
          "2025-05-05T21:00:00.000000000",
          "2025-05-05T22:00:00.000000000",
          "2025-05-05T23:00:00.000000000",
          "2025-05-06T00:00:00.000000000",
          "2025-05-06T01:00:00.000000000",
          "2025-05-06T02:00:00.000000000",
          "2025-05-06T03:00:00.000000000",
          "2025-05-06T04:00:00.000000000",
          "2025-05-06T05:00:00.000000000",
          "2025-05-06T06:00:00.000000000",
          "2025-05-06T07:00:00.000000000",
          "2025-05-06T08:00:00.000000000",
          "2025-05-06T09:00:00.000000000",
          "2025-05-06T10:00:00.000000000",
          "2025-05-06T11:00:00.000000000",
          "2025-05-06T12:00:00.000000000",
          "2025-05-06T13:00:00.000000000",
          "2025-05-06T14:00:00.000000000",
          "2025-05-06T15:00:00.000000000",
          "2025-05-06T16:00:00.000000000",
          "2025-05-06T17:00:00.000000000",
          "2025-05-06T18:00:00.000000000",
          "2025-05-06T19:00:00.000000000",
          "2025-05-06T20:00:00.000000000",
          "2025-05-06T21:00:00.000000000",
          "2025-05-06T22:00:00.000000000",
          "2025-05-06T23:00:00.000000000",
          "2025-05-07T00:00:00.000000000",
          "2025-05-07T01:00:00.000000000",
          "2025-05-07T02:00:00.000000000",
          "2025-05-07T03:00:00.000000000",
          "2025-05-07T04:00:00.000000000",
          "2025-05-07T05:00:00.000000000",
          "2025-05-07T06:00:00.000000000",
          "2025-05-07T07:00:00.000000000",
          "2025-05-07T08:00:00.000000000"
         ],
         "xaxis": "x4",
         "y": {
          "bdata": "AAAAAAAA+H8AAAAAAAD4fwAAAAAAAPh/AAAAAAAA+H8AAAAAAAD4fwAAAAAAAPh/AAAAAAAA+H8AAAAAAAD4fwAAAAAAAPh/AAAAAAAA+H8AAAAAAAD4fwAAAAAAAPh/AAAAAAAA+H8AAAAAAAD4fwAAAAAAAPh/AAAAAAAA+H8AAAAAAAD4fwAAAAAAAPh/AAAAAAAA+H8AAAAAAAD4fwAAAAAAAPh/AAAAAAAA+H8AAAAAAAD4fwAAAAAAAPh/AAAAAAAA+H8A6OxSot/9vwC0dWdPkAHAAJgsChHW/78A+JYyBbz1vwBgnR4EJeu/AOALYgCD378AsKZmN5jpvwDEKaWhefS/AGBMijfL978AqBQ3+OXkvwAAIhJfM6c/AFAN4dYe6T8AABoIGun3PwA0o6eZovQ/ANBxRNXD9T8ANGbCFZr3PwDIq2n9cfQ/APij+Yu17T8A8NRu02ThPwAYBKIjD/c/AHYaNWfdAEAAdp58fPkBQADIpNGlmvg/AFBeALcJ5j8AAJhaGGlmvwBQLJwFz+C/AAAEdroh578AtHdZkV70vwBgUZf6QvO/ALCP/pCy8r8AVFIgo7T1vwBIhgfJ6ve/AKy37BDu+78ApCXpOoD7vwD4iDsg7/C/AAh8NFXd4r8AuEnLoqT5vwAI3JIc3wjAAD70/X1tDcAA+a3MohEYwADWKjTBsxzAgI5EJ8rIIMAAKhD5FtcgwAArS43Drh3AALstftr7GMAA4D6HmwcTwAC2emAOJAvAAD5FKz2DBcAA7llCebUMwABE2OImDRHAAID/fAKlEsAAbaqw2awSwABsZZZl3RPAADPYdyKvFcAARlsQy5gUwAB3Id4zdhHAAArNmZNxCMAA4CS9WOQDwACs2l/I3QTAAMxsikptAMAAkEBRMTTrvwBQLrR5k9e/ANBjsbTI3b8ACF/MLPX0vwB4ndiJMwDAAPqhyabDAsAAuCyVqikEwADkJ8YgLArAAFROCrnQCcAARuEB+nYJwAA8uLcLrQvAAPbO+gRxD8AAsFVGrRoVwADeV+0HNxzAgI3DN5bBIMAA1z6VTjQlwADcMmmU9ybAACjhXVbSJ8AAbA9//lgpwICHvyjmdCnAAE5bs9u5JcCAi/gr62cjwADrmhDa2yLAgEX8ifsnIsAA27j+pIgXwABMvbe0vwbAANCnb1JU+T8AemTLZBgRQADMv1mJ2hZAAJFGxp2YG0AA706p764fQIBG9hr7MSFAgJmy/FJxIkAAvyggWm0kQAAzc+J14CVA",
          "dtype": "f8"
         },
         "yaxis": "y4"
        },
        {
         "line": {
          "color": "red",
          "width": 1
         },
         "name": "Signal",
         "type": "scatter",
         "x": [
          "2025-05-02T09:00:00.000000000",
          "2025-05-02T10:00:00.000000000",
          "2025-05-02T11:00:00.000000000",
          "2025-05-02T12:00:00.000000000",
          "2025-05-02T13:00:00.000000000",
          "2025-05-02T14:00:00.000000000",
          "2025-05-02T15:00:00.000000000",
          "2025-05-02T16:00:00.000000000",
          "2025-05-02T17:00:00.000000000",
          "2025-05-02T18:00:00.000000000",
          "2025-05-02T19:00:00.000000000",
          "2025-05-02T20:00:00.000000000",
          "2025-05-02T21:00:00.000000000",
          "2025-05-02T22:00:00.000000000",
          "2025-05-02T23:00:00.000000000",
          "2025-05-03T00:00:00.000000000",
          "2025-05-03T01:00:00.000000000",
          "2025-05-03T02:00:00.000000000",
          "2025-05-03T03:00:00.000000000",
          "2025-05-03T04:00:00.000000000",
          "2025-05-03T05:00:00.000000000",
          "2025-05-03T06:00:00.000000000",
          "2025-05-03T07:00:00.000000000",
          "2025-05-03T08:00:00.000000000",
          "2025-05-03T09:00:00.000000000",
          "2025-05-03T10:00:00.000000000",
          "2025-05-03T11:00:00.000000000",
          "2025-05-03T12:00:00.000000000",
          "2025-05-03T13:00:00.000000000",
          "2025-05-03T14:00:00.000000000",
          "2025-05-03T15:00:00.000000000",
          "2025-05-03T16:00:00.000000000",
          "2025-05-03T17:00:00.000000000",
          "2025-05-03T18:00:00.000000000",
          "2025-05-03T19:00:00.000000000",
          "2025-05-03T20:00:00.000000000",
          "2025-05-03T21:00:00.000000000",
          "2025-05-03T22:00:00.000000000",
          "2025-05-03T23:00:00.000000000",
          "2025-05-04T00:00:00.000000000",
          "2025-05-04T01:00:00.000000000",
          "2025-05-04T02:00:00.000000000",
          "2025-05-04T03:00:00.000000000",
          "2025-05-04T04:00:00.000000000",
          "2025-05-04T05:00:00.000000000",
          "2025-05-04T06:00:00.000000000",
          "2025-05-04T07:00:00.000000000",
          "2025-05-04T08:00:00.000000000",
          "2025-05-04T09:00:00.000000000",
          "2025-05-04T10:00:00.000000000",
          "2025-05-04T11:00:00.000000000",
          "2025-05-04T12:00:00.000000000",
          "2025-05-04T13:00:00.000000000",
          "2025-05-04T14:00:00.000000000",
          "2025-05-04T15:00:00.000000000",
          "2025-05-04T16:00:00.000000000",
          "2025-05-04T17:00:00.000000000",
          "2025-05-04T18:00:00.000000000",
          "2025-05-04T19:00:00.000000000",
          "2025-05-04T20:00:00.000000000",
          "2025-05-04T21:00:00.000000000",
          "2025-05-04T22:00:00.000000000",
          "2025-05-04T23:00:00.000000000",
          "2025-05-05T00:00:00.000000000",
          "2025-05-05T01:00:00.000000000",
          "2025-05-05T02:00:00.000000000",
          "2025-05-05T03:00:00.000000000",
          "2025-05-05T04:00:00.000000000",
          "2025-05-05T05:00:00.000000000",
          "2025-05-05T06:00:00.000000000",
          "2025-05-05T07:00:00.000000000",
          "2025-05-05T08:00:00.000000000",
          "2025-05-05T09:00:00.000000000",
          "2025-05-05T10:00:00.000000000",
          "2025-05-05T11:00:00.000000000",
          "2025-05-05T12:00:00.000000000",
          "2025-05-05T13:00:00.000000000",
          "2025-05-05T14:00:00.000000000",
          "2025-05-05T15:00:00.000000000",
          "2025-05-05T16:00:00.000000000",
          "2025-05-05T17:00:00.000000000",
          "2025-05-05T18:00:00.000000000",
          "2025-05-05T19:00:00.000000000",
          "2025-05-05T20:00:00.000000000",
          "2025-05-05T21:00:00.000000000",
          "2025-05-05T22:00:00.000000000",
          "2025-05-05T23:00:00.000000000",
          "2025-05-06T00:00:00.000000000",
          "2025-05-06T01:00:00.000000000",
          "2025-05-06T02:00:00.000000000",
          "2025-05-06T03:00:00.000000000",
          "2025-05-06T04:00:00.000000000",
          "2025-05-06T05:00:00.000000000",
          "2025-05-06T06:00:00.000000000",
          "2025-05-06T07:00:00.000000000",
          "2025-05-06T08:00:00.000000000",
          "2025-05-06T09:00:00.000000000",
          "2025-05-06T10:00:00.000000000",
          "2025-05-06T11:00:00.000000000",
          "2025-05-06T12:00:00.000000000",
          "2025-05-06T13:00:00.000000000",
          "2025-05-06T14:00:00.000000000",
          "2025-05-06T15:00:00.000000000",
          "2025-05-06T16:00:00.000000000",
          "2025-05-06T17:00:00.000000000",
          "2025-05-06T18:00:00.000000000",
          "2025-05-06T19:00:00.000000000",
          "2025-05-06T20:00:00.000000000",
          "2025-05-06T21:00:00.000000000",
          "2025-05-06T22:00:00.000000000",
          "2025-05-06T23:00:00.000000000",
          "2025-05-07T00:00:00.000000000",
          "2025-05-07T01:00:00.000000000",
          "2025-05-07T02:00:00.000000000",
          "2025-05-07T03:00:00.000000000",
          "2025-05-07T04:00:00.000000000",
          "2025-05-07T05:00:00.000000000",
          "2025-05-07T06:00:00.000000000",
          "2025-05-07T07:00:00.000000000",
          "2025-05-07T08:00:00.000000000"
         ],
         "xaxis": "x4",
         "y": {
          "bdata": "AAAAAAAA+H8AAAAAAAD4fwAAAAAAAPh/AAAAAAAA+H8AAAAAAAD4fwAAAAAAAPh/AAAAAAAA+H8AAAAAAAD4fwAAAAAAAPh/AAAAAAAA+H8AAAAAAAD4fwAAAAAAAPh/AAAAAAAA+H8AAAAAAAD4fwAAAAAAAPh/AAAAAAAA+H8AAAAAAAD4fwAAAAAAAPh/AAAAAAAA+H8AAAAAAAD4fwAAAAAAAPh/AAAAAAAA+H8AAAAAAAD4fwAAAAAAAPh/AAAAAAAA+H8AAAAAAAD4fwAAAAAAAPh/AAAAAAAA+H8AAAAAAAD4fwAAAAAAAPh/AAAAAAAA+H8AAAAAAAD4fwAAAAAAAPh/j4psrpIr9b9zTD/Epwbzv7hAK3DOJu6/k/Afk+AY4789aAn9pNrGvwZmLh1Kd70/NSEx1h9O1z+vu2+jSMPiPybmahM5MOc/UoOpdBZ+6D+oMrKmohLnP1Rlw1+Qrus/VfGLO5bR8T9E8Egu3XH1P9CBjuieE/Y/DaOu03fd8z+vGdJNRMTvP4wEbIU1DeY/FNREpqQH2j9zM12PCh2yPwWF9uu/kse/AsIIKidj2L80bySE6m/ivyrcUgYMUei/7/S+YxCg7r9gHIdWEsDxvxoVIVFIlvG/KvCAv4Tp779E69sOvOTxv53yB61uQ/i/sacB8Iou/78UDRPlqxkGwHfGhjI9KQ3AY4iEvc9gEsC2Sj37SHAVwMWq2X5hFhfA0XrqsXl3F8DbW/tCTZQWwOOOCAwMxxTAUMWNJ/bFEsB0AhRzt+MRwCqpobzNuBHAvG20fAvoEcBkOn/tZw8SwLeqE9zNaxLA+cUHyN4SE8CU337W2mATwENkn3G5/hLAnDdH6u+jEcAXdokB/BkQwL9FoRWI7w3AZi39LOI7C8AfxQ1otyUHwIAsjMR1GwPAADysIckHAMCaYfORF9f9v+JKm/5JWv6/6J9WHLHJ/7/EZPj1aL8AwDd+mx/0oQLALNxYG7URBMBX8UAW9iUFwKxm8pwtdAbA8By4r1hACMCNXYJ1v9cLwJ8erJG0xxDATIRxJGYgFMAK83PyPZUYwAm0Cuxs2hzAaraX1zxOIMBVdHxfMB0iwMQRvYchlSPA0B1DXeACJMAnmpqG4uMjwFOqmggUryPAXMlH79tgI8DKg+XYJtshwN3Am6A22B7AsZwaLsFoF8CCYwKS2Z0OwJ2VnW4htP6/6YPGm0rjw78CshGrnlv3P86yZcBuGQdAhh5wGOedEEA4yzbt3HYVQC3qWRgT7BlA",
          "dtype": "f8"
         },
         "yaxis": "y4"
        },
        {
         "marker": {
          "color": [
           "green",
           "green",
           "green",
           "green",
           "green",
           "green",
           "green",
           "green",
           "green",
           "green",
           "green",
           "green",
           "green",
           "green",
           "green",
           "green",
           "green",
           "green",
           "green",
           "green",
           "green",
           "green",
           "green",
           "green",
           "green",
           "green",
           "green",
           "green",
           "green",
           "green",
           "green",
           "green",
           "green",
           "red",
           "green",
           "green",
           "green",
           "green",
           "green",
           "green",
           "green",
           "green",
           "green",
           "red",
           "green",
           "green",
           "green",
           "green",
           "red",
           "red",
           "red",
           "red",
           "red",
           "red",
           "red",
           "red",
           "red",
           "red",
           "red",
           "green",
           "green",
           "red",
           "red",
           "red",
           "red",
           "red",
           "red",
           "red",
           "red",
           "red",
           "green",
           "green",
           "green",
           "green",
           "green",
           "red",
           "red",
           "red",
           "red",
           "red",
           "green",
           "green",
           "green",
           "green",
           "green",
           "green",
           "green",
           "green",
           "green",
           "red",
           "red",
           "red",
           "red",
           "red",
           "red",
           "red",
           "red",
           "red",
           "red",
           "red",
           "red",
           "red",
           "red",
           "red",
           "red",
           "red",
           "green",
           "green",
           "green",
           "green",
           "green",
           "green",
           "green",
           "green",
           "green",
           "green",
           "green",
           "green",
           "green",
           "green"
          ]
         },
         "name": "Histogramme",
         "type": "bar",
         "x": [
          "2025-05-02T09:00:00.000000000",
          "2025-05-02T10:00:00.000000000",
          "2025-05-02T11:00:00.000000000",
          "2025-05-02T12:00:00.000000000",
          "2025-05-02T13:00:00.000000000",
          "2025-05-02T14:00:00.000000000",
          "2025-05-02T15:00:00.000000000",
          "2025-05-02T16:00:00.000000000",
          "2025-05-02T17:00:00.000000000",
          "2025-05-02T18:00:00.000000000",
          "2025-05-02T19:00:00.000000000",
          "2025-05-02T20:00:00.000000000",
          "2025-05-02T21:00:00.000000000",
          "2025-05-02T22:00:00.000000000",
          "2025-05-02T23:00:00.000000000",
          "2025-05-03T00:00:00.000000000",
          "2025-05-03T01:00:00.000000000",
          "2025-05-03T02:00:00.000000000",
          "2025-05-03T03:00:00.000000000",
          "2025-05-03T04:00:00.000000000",
          "2025-05-03T05:00:00.000000000",
          "2025-05-03T06:00:00.000000000",
          "2025-05-03T07:00:00.000000000",
          "2025-05-03T08:00:00.000000000",
          "2025-05-03T09:00:00.000000000",
          "2025-05-03T10:00:00.000000000",
          "2025-05-03T11:00:00.000000000",
          "2025-05-03T12:00:00.000000000",
          "2025-05-03T13:00:00.000000000",
          "2025-05-03T14:00:00.000000000",
          "2025-05-03T15:00:00.000000000",
          "2025-05-03T16:00:00.000000000",
          "2025-05-03T17:00:00.000000000",
          "2025-05-03T18:00:00.000000000",
          "2025-05-03T19:00:00.000000000",
          "2025-05-03T20:00:00.000000000",
          "2025-05-03T21:00:00.000000000",
          "2025-05-03T22:00:00.000000000",
          "2025-05-03T23:00:00.000000000",
          "2025-05-04T00:00:00.000000000",
          "2025-05-04T01:00:00.000000000",
          "2025-05-04T02:00:00.000000000",
          "2025-05-04T03:00:00.000000000",
          "2025-05-04T04:00:00.000000000",
          "2025-05-04T05:00:00.000000000",
          "2025-05-04T06:00:00.000000000",
          "2025-05-04T07:00:00.000000000",
          "2025-05-04T08:00:00.000000000",
          "2025-05-04T09:00:00.000000000",
          "2025-05-04T10:00:00.000000000",
          "2025-05-04T11:00:00.000000000",
          "2025-05-04T12:00:00.000000000",
          "2025-05-04T13:00:00.000000000",
          "2025-05-04T14:00:00.000000000",
          "2025-05-04T15:00:00.000000000",
          "2025-05-04T16:00:00.000000000",
          "2025-05-04T17:00:00.000000000",
          "2025-05-04T18:00:00.000000000",
          "2025-05-04T19:00:00.000000000",
          "2025-05-04T20:00:00.000000000",
          "2025-05-04T21:00:00.000000000",
          "2025-05-04T22:00:00.000000000",
          "2025-05-04T23:00:00.000000000",
          "2025-05-05T00:00:00.000000000",
          "2025-05-05T01:00:00.000000000",
          "2025-05-05T02:00:00.000000000",
          "2025-05-05T03:00:00.000000000",
          "2025-05-05T04:00:00.000000000",
          "2025-05-05T05:00:00.000000000",
          "2025-05-05T06:00:00.000000000",
          "2025-05-05T07:00:00.000000000",
          "2025-05-05T08:00:00.000000000",
          "2025-05-05T09:00:00.000000000",
          "2025-05-05T10:00:00.000000000",
          "2025-05-05T11:00:00.000000000",
          "2025-05-05T12:00:00.000000000",
          "2025-05-05T13:00:00.000000000",
          "2025-05-05T14:00:00.000000000",
          "2025-05-05T15:00:00.000000000",
          "2025-05-05T16:00:00.000000000",
          "2025-05-05T17:00:00.000000000",
          "2025-05-05T18:00:00.000000000",
          "2025-05-05T19:00:00.000000000",
          "2025-05-05T20:00:00.000000000",
          "2025-05-05T21:00:00.000000000",
          "2025-05-05T22:00:00.000000000",
          "2025-05-05T23:00:00.000000000",
          "2025-05-06T00:00:00.000000000",
          "2025-05-06T01:00:00.000000000",
          "2025-05-06T02:00:00.000000000",
          "2025-05-06T03:00:00.000000000",
          "2025-05-06T04:00:00.000000000",
          "2025-05-06T05:00:00.000000000",
          "2025-05-06T06:00:00.000000000",
          "2025-05-06T07:00:00.000000000",
          "2025-05-06T08:00:00.000000000",
          "2025-05-06T09:00:00.000000000",
          "2025-05-06T10:00:00.000000000",
          "2025-05-06T11:00:00.000000000",
          "2025-05-06T12:00:00.000000000",
          "2025-05-06T13:00:00.000000000",
          "2025-05-06T14:00:00.000000000",
          "2025-05-06T15:00:00.000000000",
          "2025-05-06T16:00:00.000000000",
          "2025-05-06T17:00:00.000000000",
          "2025-05-06T18:00:00.000000000",
          "2025-05-06T19:00:00.000000000",
          "2025-05-06T20:00:00.000000000",
          "2025-05-06T21:00:00.000000000",
          "2025-05-06T22:00:00.000000000",
          "2025-05-06T23:00:00.000000000",
          "2025-05-07T00:00:00.000000000",
          "2025-05-07T01:00:00.000000000",
          "2025-05-07T02:00:00.000000000",
          "2025-05-07T03:00:00.000000000",
          "2025-05-07T04:00:00.000000000",
          "2025-05-07T05:00:00.000000000",
          "2025-05-07T06:00:00.000000000",
          "2025-05-07T07:00:00.000000000",
          "2025-05-07T08:00:00.000000000"
         ],
         "xaxis": "x4",
         "y": {
          "bdata": "AAAAAAAA+H8AAAAAAAD4fwAAAAAAAPh/AAAAAAAA+H8AAAAAAAD4fwAAAAAAAPh/AAAAAAAA+H8AAAAAAAD4fwAAAAAAAPh/AAAAAAAA+H8AAAAAAAD4fwAAAAAAAPh/AAAAAAAA+H8AAAAAAAD4fwAAAAAAAPh/AAAAAAAA+H8AAAAAAAD4fwAAAAAAAPh/AAAAAAAA+H8AAAAAAAD4fwAAAAAAAPh/AAAAAAAA+H8AAAAAAAD4fwAAAAAAAPh/AAAAAAAA+H8AAAAAAAD4fwAAAAAAAPh/AAAAAAAA+H8AAAAAAAD4fwAAAAAAAPh/AAAAAAAA+H8AAAAAAAD4fwAAAAAAAPh/iKv+3ib9xL/m8GlRVyfhP7hgTWEEmu8/SqAWutsb9j8ILbunbsT6P6BN0AUly/I/Zg/LnZrg7z9RrFzh4nDsP9qp7L/Bs+E/uNLpE9bdxD+gCnXfPLfGv6zKROS2b+I/VvVRXXDS7z949+eVNwLtP4Axskg3OMQ/Gvb+pjix4b+vsSxmrdrvv0YqzJAdbvO/BTWTZMYS8r83h20CYoD1v1+P0pmiUPC///4aaI4z6b/MOIC8W/nov9azuQiGhOe/EWOwdRE86b9ADz0lUYDjv0CjA7MC5aQ/VNAJFl8Y2j/wMrfxmv/ev2MdsHjKevm/T9TmC3Gs+7/s5Ei0mQkKwInlzjVFPgzAOikJIolhDsCUEsbtyXsIwOwAxjmIYfq/8AI0xAxG2L/Y3uPdjWXsP4zPLG8T1Pw/oEzWI68IAECgWziP1kfsP0ClLDnbdMU/gEhiCeCex7+AU2ZlOK7Dv5AUHKV7Gde/OGiDfh3i5L/AZsadA3/TvzDU3jdZiNg/cMqCdZis9T9cGNyLPp/4P34zjWt/I/I/zMIgRS+d9T8fob0Tq1gAQIBiBo4GKQBAAIT/FmWd+D80syiL1cPhP/Ao/ZRNZsC/YFC123H21r/gmaL5DFLbvySXMZqyKO6/UN/Vuw/85r+kUoGuD0Thv1BVF2t44+S/QGRbLLHC7L/mBFIuNrv8v8J+V7em3gbAaC0rlozFCsD2ugk4X9MRwPcDW+a7FBHAWMYlGWYQDsCs3kt+OO8MwPDWCYQSfwfAAAODYbVv67/AqYOo1v3OP2Dq9/8+Z9o/wD24VAaO4z8oWSRmUVsIQN0avURceBNAsZAEytW9HUDg1TLKqDMgQGcxZ7WRhx5AH8UkG7g3HECAgor+B9gZQJmzudU+1xZAehT14L5EFEDIshpT12MTQNN7jKzY1BFA",
          "dtype": "f8"
         },
         "yaxis": "y4"
        }
       ],
       "layout": {
        "annotations": [
         {
          "font": {
           "size": 16
          },
          "showarrow": false,
          "text": "ETH/USDT - Prix et Tendance",
          "x": 0.5,
          "xanchor": "center",
          "xref": "paper",
          "y": 1,
          "yanchor": "bottom",
          "yref": "paper"
         },
         {
          "font": {
           "size": 16
          },
          "showarrow": false,
          "text": "Volume",
          "x": 0.5,
          "xanchor": "center",
          "xref": "paper",
          "y": 0.5099999999999999,
          "yanchor": "bottom",
          "yref": "paper"
         },
         {
          "font": {
           "size": 16
          },
          "showarrow": false,
          "text": "RSI",
          "x": 0.5,
          "xanchor": "center",
          "xref": "paper",
          "y": 0.349,
          "yanchor": "bottom",
          "yref": "paper"
         },
         {
          "font": {
           "size": 16
          },
          "showarrow": false,
          "text": "MACD",
          "x": 0.5,
          "xanchor": "center",
          "xref": "paper",
          "y": 0.188,
          "yanchor": "bottom",
          "yref": "paper"
         },
         {
          "showarrow": false,
          "text": "R: 1836.45",
          "x": "2025-05-07T08:00:00",
          "xanchor": "right",
          "xref": "x",
          "y": 1836.44640625,
          "yref": "y"
         },
         {
          "showarrow": false,
          "text": "S: 1799.70",
          "x": "2025-05-07T08:00:00",
          "xanchor": "right",
          "xref": "x",
          "y": 1799.6996875,
          "yref": "y"
         },
         {
          "showarrow": false,
          "text": "S: 1766.92",
          "x": "2025-05-07T08:00:00",
          "xanchor": "right",
          "xref": "x",
          "y": 1766.925,
          "yref": "y"
         }
        ],
        "height": 900,
        "legend": {
         "orientation": "h",
         "x": 0.5,
         "xanchor": "center",
         "y": 1.02,
         "yanchor": "bottom"
        },
        "shapes": [
         {
          "line": {
           "color": "red",
           "dash": "dash",
           "width": 1
          },
          "type": "line",
          "x0": "2025-05-02T09:00:00",
          "x1": "2025-05-07T08:00:00",
          "xref": "x",
          "y0": 1836.44640625,
          "y1": 1836.44640625,
          "yref": "y"
         },
         {
          "line": {
           "color": "green",
           "dash": "dash",
           "width": 1
          },
          "type": "line",
          "x0": "2025-05-02T09:00:00",
          "x1": "2025-05-07T08:00:00",
          "xref": "x",
          "y0": 1799.6996875,
          "y1": 1799.6996875,
          "yref": "y"
         },
         {
          "line": {
           "color": "green",
           "dash": "dash",
           "width": 1
          },
          "type": "line",
          "x0": "2025-05-02T09:00:00",
          "x1": "2025-05-07T08:00:00",
          "xref": "x",
          "y0": 1766.925,
          "y1": 1766.925,
          "yref": "y"
         },
         {
          "line": {
           "color": "green",
           "width": 2
          },
          "type": "line",
          "x0": "2025-05-02T09:00:00",
          "x1": "2025-05-07T08:00:00",
          "xref": "x",
          "y0": 1820.44,
          "y1": 1738.9964,
          "yref": "y"
         },
         {
          "line": {
           "color": "green",
           "width": 2
          },
          "type": "line",
          "x0": "2025-05-06T03:00:00",
          "x1": "2025-05-07T08:00:00",
          "xref": "x",
          "y0": 1735.125,
          "y1": 1784.0625,
          "yref": "y"
         },
         {
          "line": {
           "color": "green",
           "width": 2
          },
          "type": "line",
          "x0": "2025-05-06T11:00:00",
          "x1": "2025-05-07T08:00:00",
          "xref": "x",
          "y0": 1700.9,
          "y1": 1836.56,
          "yref": "y"
         },
         {
          "line": {
           "color": "red",
           "width": 2
          },
          "type": "line",
          "x0": "2025-05-02T09:00:00",
          "x1": "2025-05-07T08:00:00",
          "xref": "x",
          "y0": 1872.4,
          "y1": 1848.6000000000001,
          "yref": "y"
         },
         {
          "line": {
           "color": "red",
           "width": 2
          },
          "type": "line",
          "x0": "2025-05-02T09:00:00",
          "x1": "2025-05-03T12:00:00",
          "xref": "x",
          "y0": 1829.21,
          "y1": 1990.3999999999996,
          "yref": "y"
         },
         {
          "line": {
           "color": "red",
           "width": 2
          },
          "type": "line",
          "x0": "2025-05-06T14:00:00",
          "x1": "2025-05-07T08:00:00",
          "xref": "x",
          "y0": 1865.0857142857142,
          "y1": 1840.4,
          "yref": "y"
         },
         {
          "line": {
           "color": "red",
           "dash": "dash",
           "width": 1
          },
          "type": "line",
          "x0": "2025-05-02T09:00:00",
          "x1": "2025-05-07T08:00:00",
          "xref": "x3",
          "y0": 70,
          "y1": 70,
          "yref": "y3"
         },
         {
          "line": {
           "color": "green",
           "dash": "dash",
           "width": 1
          },
          "type": "line",
          "x0": "2025-05-02T09:00:00",
          "x1": "2025-05-07T08:00:00",
          "xref": "x3",
          "y0": 30,
          "y1": 30,
          "yref": "y3"
         }
        ],
        "template": {
         "data": {
          "bar": [
           {
            "error_x": {
             "color": "#f2f5fa"
            },
            "error_y": {
             "color": "#f2f5fa"
            },
            "marker": {
             "line": {
              "color": "rgb(17,17,17)",
              "width": 0.5
             },
             "pattern": {
              "fillmode": "overlay",
              "size": 10,
              "solidity": 0.2
             }
            },
            "type": "bar"
           }
          ],
          "barpolar": [
           {
            "marker": {
             "line": {
              "color": "rgb(17,17,17)",
              "width": 0.5
             },
             "pattern": {
              "fillmode": "overlay",
              "size": 10,
              "solidity": 0.2
             }
            },
            "type": "barpolar"
           }
          ],
          "carpet": [
           {
            "aaxis": {
             "endlinecolor": "#A2B1C6",
             "gridcolor": "#506784",
             "linecolor": "#506784",
             "minorgridcolor": "#506784",
             "startlinecolor": "#A2B1C6"
            },
            "baxis": {
             "endlinecolor": "#A2B1C6",
             "gridcolor": "#506784",
             "linecolor": "#506784",
             "minorgridcolor": "#506784",
             "startlinecolor": "#A2B1C6"
            },
            "type": "carpet"
           }
          ],
          "choropleth": [
           {
            "colorbar": {
             "outlinewidth": 0,
             "ticks": ""
            },
            "type": "choropleth"
           }
          ],
          "contour": [
           {
            "colorbar": {
             "outlinewidth": 0,
             "ticks": ""
            },
            "colorscale": [
             [
              0,
              "#0d0887"
             ],
             [
              0.1111111111111111,
              "#46039f"
             ],
             [
              0.2222222222222222,
              "#7201a8"
             ],
             [
              0.3333333333333333,
              "#9c179e"
             ],
             [
              0.4444444444444444,
              "#bd3786"
             ],
             [
              0.5555555555555556,
              "#d8576b"
             ],
             [
              0.6666666666666666,
              "#ed7953"
             ],
             [
              0.7777777777777778,
              "#fb9f3a"
             ],
             [
              0.8888888888888888,
              "#fdca26"
             ],
             [
              1,
              "#f0f921"
             ]
            ],
            "type": "contour"
           }
          ],
          "contourcarpet": [
           {
            "colorbar": {
             "outlinewidth": 0,
             "ticks": ""
            },
            "type": "contourcarpet"
           }
          ],
          "heatmap": [
           {
            "colorbar": {
             "outlinewidth": 0,
             "ticks": ""
            },
            "colorscale": [
             [
              0,
              "#0d0887"
             ],
             [
              0.1111111111111111,
              "#46039f"
             ],
             [
              0.2222222222222222,
              "#7201a8"
             ],
             [
              0.3333333333333333,
              "#9c179e"
             ],
             [
              0.4444444444444444,
              "#bd3786"
             ],
             [
              0.5555555555555556,
              "#d8576b"
             ],
             [
              0.6666666666666666,
              "#ed7953"
             ],
             [
              0.7777777777777778,
              "#fb9f3a"
             ],
             [
              0.8888888888888888,
              "#fdca26"
             ],
             [
              1,
              "#f0f921"
             ]
            ],
            "type": "heatmap"
           }
          ],
          "histogram": [
           {
            "marker": {
             "pattern": {
              "fillmode": "overlay",
              "size": 10,
              "solidity": 0.2
             }
            },
            "type": "histogram"
           }
          ],
          "histogram2d": [
           {
            "colorbar": {
             "outlinewidth": 0,
             "ticks": ""
            },
            "colorscale": [
             [
              0,
              "#0d0887"
             ],
             [
              0.1111111111111111,
              "#46039f"
             ],
             [
              0.2222222222222222,
              "#7201a8"
             ],
             [
              0.3333333333333333,
              "#9c179e"
             ],
             [
              0.4444444444444444,
              "#bd3786"
             ],
             [
              0.5555555555555556,
              "#d8576b"
             ],
             [
              0.6666666666666666,
              "#ed7953"
             ],
             [
              0.7777777777777778,
              "#fb9f3a"
             ],
             [
              0.8888888888888888,
              "#fdca26"
             ],
             [
              1,
              "#f0f921"
             ]
            ],
            "type": "histogram2d"
           }
          ],
          "histogram2dcontour": [
           {
            "colorbar": {
             "outlinewidth": 0,
             "ticks": ""
            },
            "colorscale": [
             [
              0,
              "#0d0887"
             ],
             [
              0.1111111111111111,
              "#46039f"
             ],
             [
              0.2222222222222222,
              "#7201a8"
             ],
             [
              0.3333333333333333,
              "#9c179e"
             ],
             [
              0.4444444444444444,
              "#bd3786"
             ],
             [
              0.5555555555555556,
              "#d8576b"
             ],
             [
              0.6666666666666666,
              "#ed7953"
             ],
             [
              0.7777777777777778,
              "#fb9f3a"
             ],
             [
              0.8888888888888888,
              "#fdca26"
             ],
             [
              1,
              "#f0f921"
             ]
            ],
            "type": "histogram2dcontour"
           }
          ],
          "mesh3d": [
           {
            "colorbar": {
             "outlinewidth": 0,
             "ticks": ""
            },
            "type": "mesh3d"
           }
          ],
          "parcoords": [
           {
            "line": {
             "colorbar": {
              "outlinewidth": 0,
              "ticks": ""
             }
            },
            "type": "parcoords"
           }
          ],
          "pie": [
           {
            "automargin": true,
            "type": "pie"
           }
          ],
          "scatter": [
           {
            "marker": {
             "line": {
              "color": "#283442"
             }
            },
            "type": "scatter"
           }
          ],
          "scatter3d": [
           {
            "line": {
             "colorbar": {
              "outlinewidth": 0,
              "ticks": ""
             }
            },
            "marker": {
             "colorbar": {
              "outlinewidth": 0,
              "ticks": ""
             }
            },
            "type": "scatter3d"
           }
          ],
          "scattercarpet": [
           {
            "marker": {
             "colorbar": {
              "outlinewidth": 0,
              "ticks": ""
             }
            },
            "type": "scattercarpet"
           }
          ],
          "scattergeo": [
           {
            "marker": {
             "colorbar": {
              "outlinewidth": 0,
              "ticks": ""
             }
            },
            "type": "scattergeo"
           }
          ],
          "scattergl": [
           {
            "marker": {
             "line": {
              "color": "#283442"
             }
            },
            "type": "scattergl"
           }
          ],
          "scattermap": [
           {
            "marker": {
             "colorbar": {
              "outlinewidth": 0,
              "ticks": ""
             }
            },
            "type": "scattermap"
           }
          ],
          "scattermapbox": [
           {
            "marker": {
             "colorbar": {
              "outlinewidth": 0,
              "ticks": ""
             }
            },
            "type": "scattermapbox"
           }
          ],
          "scatterpolar": [
           {
            "marker": {
             "colorbar": {
              "outlinewidth": 0,
              "ticks": ""
             }
            },
            "type": "scatterpolar"
           }
          ],
          "scatterpolargl": [
           {
            "marker": {
             "colorbar": {
              "outlinewidth": 0,
              "ticks": ""
             }
            },
            "type": "scatterpolargl"
           }
          ],
          "scatterternary": [
           {
            "marker": {
             "colorbar": {
              "outlinewidth": 0,
              "ticks": ""
             }
            },
            "type": "scatterternary"
           }
          ],
          "surface": [
           {
            "colorbar": {
             "outlinewidth": 0,
             "ticks": ""
            },
            "colorscale": [
             [
              0,
              "#0d0887"
             ],
             [
              0.1111111111111111,
              "#46039f"
             ],
             [
              0.2222222222222222,
              "#7201a8"
             ],
             [
              0.3333333333333333,
              "#9c179e"
             ],
             [
              0.4444444444444444,
              "#bd3786"
             ],
             [
              0.5555555555555556,
              "#d8576b"
             ],
             [
              0.6666666666666666,
              "#ed7953"
             ],
             [
              0.7777777777777778,
              "#fb9f3a"
             ],
             [
              0.8888888888888888,
              "#fdca26"
             ],
             [
              1,
              "#f0f921"
             ]
            ],
            "type": "surface"
           }
          ],
          "table": [
           {
            "cells": {
             "fill": {
              "color": "#506784"
             },
             "line": {
              "color": "rgb(17,17,17)"
             }
            },
            "header": {
             "fill": {
              "color": "#2a3f5f"
             },
             "line": {
              "color": "rgb(17,17,17)"
             }
            },
            "type": "table"
           }
          ]
         },
         "layout": {
          "annotationdefaults": {
           "arrowcolor": "#f2f5fa",
           "arrowhead": 0,
           "arrowwidth": 1
          },
          "autotypenumbers": "strict",
          "coloraxis": {
           "colorbar": {
            "outlinewidth": 0,
            "ticks": ""
           }
          },
          "colorscale": {
           "diverging": [
            [
             0,
             "#8e0152"
            ],
            [
             0.1,
             "#c51b7d"
            ],
            [
             0.2,
             "#de77ae"
            ],
            [
             0.3,
             "#f1b6da"
            ],
            [
             0.4,
             "#fde0ef"
            ],
            [
             0.5,
             "#f7f7f7"
            ],
            [
             0.6,
             "#e6f5d0"
            ],
            [
             0.7,
             "#b8e186"
            ],
            [
             0.8,
             "#7fbc41"
            ],
            [
             0.9,
             "#4d9221"
            ],
            [
             1,
             "#276419"
            ]
           ],
           "sequential": [
            [
             0,
             "#0d0887"
            ],
            [
             0.1111111111111111,
             "#46039f"
            ],
            [
             0.2222222222222222,
             "#7201a8"
            ],
            [
             0.3333333333333333,
             "#9c179e"
            ],
            [
             0.4444444444444444,
             "#bd3786"
            ],
            [
             0.5555555555555556,
             "#d8576b"
            ],
            [
             0.6666666666666666,
             "#ed7953"
            ],
            [
             0.7777777777777778,
             "#fb9f3a"
            ],
            [
             0.8888888888888888,
             "#fdca26"
            ],
            [
             1,
             "#f0f921"
            ]
           ],
           "sequentialminus": [
            [
             0,
             "#0d0887"
            ],
            [
             0.1111111111111111,
             "#46039f"
            ],
            [
             0.2222222222222222,
             "#7201a8"
            ],
            [
             0.3333333333333333,
             "#9c179e"
            ],
            [
             0.4444444444444444,
             "#bd3786"
            ],
            [
             0.5555555555555556,
             "#d8576b"
            ],
            [
             0.6666666666666666,
             "#ed7953"
            ],
            [
             0.7777777777777778,
             "#fb9f3a"
            ],
            [
             0.8888888888888888,
             "#fdca26"
            ],
            [
             1,
             "#f0f921"
            ]
           ]
          },
          "colorway": [
           "#636efa",
           "#EF553B",
           "#00cc96",
           "#ab63fa",
           "#FFA15A",
           "#19d3f3",
           "#FF6692",
           "#B6E880",
           "#FF97FF",
           "#FECB52"
          ],
          "font": {
           "color": "#f2f5fa"
          },
          "geo": {
           "bgcolor": "rgb(17,17,17)",
           "lakecolor": "rgb(17,17,17)",
           "landcolor": "rgb(17,17,17)",
           "showlakes": true,
           "showland": true,
           "subunitcolor": "#506784"
          },
          "hoverlabel": {
           "align": "left"
          },
          "hovermode": "closest",
          "mapbox": {
           "style": "dark"
          },
          "paper_bgcolor": "rgb(17,17,17)",
          "plot_bgcolor": "rgb(17,17,17)",
          "polar": {
           "angularaxis": {
            "gridcolor": "#506784",
            "linecolor": "#506784",
            "ticks": ""
           },
           "bgcolor": "rgb(17,17,17)",
           "radialaxis": {
            "gridcolor": "#506784",
            "linecolor": "#506784",
            "ticks": ""
           }
          },
          "scene": {
           "xaxis": {
            "backgroundcolor": "rgb(17,17,17)",
            "gridcolor": "#506784",
            "gridwidth": 2,
            "linecolor": "#506784",
            "showbackground": true,
            "ticks": "",
            "zerolinecolor": "#C8D4E3"
           },
           "yaxis": {
            "backgroundcolor": "rgb(17,17,17)",
            "gridcolor": "#506784",
            "gridwidth": 2,
            "linecolor": "#506784",
            "showbackground": true,
            "ticks": "",
            "zerolinecolor": "#C8D4E3"
           },
           "zaxis": {
            "backgroundcolor": "rgb(17,17,17)",
            "gridcolor": "#506784",
            "gridwidth": 2,
            "linecolor": "#506784",
            "showbackground": true,
            "ticks": "",
            "zerolinecolor": "#C8D4E3"
           }
          },
          "shapedefaults": {
           "line": {
            "color": "#f2f5fa"
           }
          },
          "sliderdefaults": {
           "bgcolor": "#C8D4E3",
           "bordercolor": "rgb(17,17,17)",
           "borderwidth": 1,
           "tickwidth": 0
          },
          "ternary": {
           "aaxis": {
            "gridcolor": "#506784",
            "linecolor": "#506784",
            "ticks": ""
           },
           "baxis": {
            "gridcolor": "#506784",
            "linecolor": "#506784",
            "ticks": ""
           },
           "bgcolor": "rgb(17,17,17)",
           "caxis": {
            "gridcolor": "#506784",
            "linecolor": "#506784",
            "ticks": ""
           }
          },
          "title": {
           "x": 0.05
          },
          "updatemenudefaults": {
           "bgcolor": "#506784",
           "borderwidth": 0
          },
          "xaxis": {
           "automargin": true,
           "gridcolor": "#283442",
           "linecolor": "#506784",
           "ticks": "",
           "title": {
            "standoff": 15
           },
           "zerolinecolor": "#283442",
           "zerolinewidth": 2
          },
          "yaxis": {
           "automargin": true,
           "gridcolor": "#283442",
           "linecolor": "#506784",
           "ticks": "",
           "title": {
            "standoff": 15
           },
           "zerolinecolor": "#283442",
           "zerolinewidth": 2
          }
         }
        },
        "title": {
         "text": "Analyse Technique ETH/USDT 1h - 15/05/2025"
        },
        "xaxis": {
         "anchor": "y",
         "domain": [
          0,
          1
         ],
         "matches": "x4",
         "showticklabels": false
        },
        "xaxis2": {
         "anchor": "y2",
         "domain": [
          0,
          1
         ],
         "matches": "x4",
         "showticklabels": false
        },
        "xaxis3": {
         "anchor": "y3",
         "domain": [
          0,
          1
         ],
         "matches": "x4",
         "showticklabels": false
        },
        "xaxis4": {
         "anchor": "y4",
         "domain": [
          0,
          1
         ],
         "rangeslider": {
          "visible": false
         }
        },
        "yaxis": {
         "anchor": "x",
         "domain": [
          0.53,
          1
         ],
         "title": {
          "text": "Prix (USDT)"
         }
        },
        "yaxis2": {
         "anchor": "x2",
         "domain": [
          0.36899999999999994,
          0.5099999999999999
         ],
         "title": {
          "text": "Volume"
         }
        },
        "yaxis3": {
         "anchor": "x3",
         "domain": [
          0.208,
          0.349
         ],
         "range": [
          0,
          100
         ],
         "title": {
          "text": "RSI"
         }
        },
        "yaxis4": {
         "anchor": "x4",
         "domain": [
          0,
          0.188
         ],
         "title": {
          "text": "MACD"
         }
        }
       }
      }
     },
     "metadata": {},
     "output_type": "display_data"
    },
    {
     "name": "stdout",
     "output_type": "stream",
     "text": [
      "\n",
      "===== Résumé de l'Analyse Technique ETH/USDT =====\n",
      "\n",
      "Prix actuel: $1839.04\n",
      "Tendance: Haussière (forte)\n",
      "\n",
      "Lignes de support dynamiques:\n",
      "  Support 1: 7 points de contact\n",
      "   - Angle: -34.4° ↘\n",
      "  Support 2: 9 points de contact\n",
      "   - Angle: 59.3° ↗\n",
      "  Support 3: 6 points de contact\n",
      "   - Angle: 81.2° ↗\n",
      "\n",
      "Lignes de résistance dynamiques:\n",
      "  Résistance 1: 4 points de contact\n",
      "   - Angle: -11.3° ↘\n",
      "  Résistance 2: 6 points de contact\n",
      "   - Angle: 80.5° ↗\n",
      "  Résistance 3: 5 points de contact\n",
      "   - Angle: -53.9° ↘\n",
      "\n",
      "Signal MM: ⬇️ Baissier - SMA20 en-dessous de SMA50\n",
      "RSI (64.5): ➡️ Neutre\n",
      "MACD: ⬆️ Signal haussier - MACD au-dessus du Signal\n",
      "Bandes de Bollinger: ⬇️ Proche limite haute - Potentiel retournement baissier (Largeur: 0.07)\n",
      "Support le plus proche: $1799.70 (-2.14%)\n",
      "Pas de résistance identifiée dans la plage de prix actuelle\n",
      "\n",
      "==== Recommandation ====\n",
      "\n",
      "Support ascendant détecté: signal haussier (+1)\n",
      "Résistance ascendante forte détectée: signal haussier (+1)\n",
      "Signaux haussiers: 5\n",
      "Signaux baissiers: 2\n",
      "\n",
      "Recommandation: ACHAT FORT\n"
     ]
    }
   ],
   "source": [
    "import pandas as pd\n",
    "import numpy as np\n",
    "import matplotlib.pyplot as plt\n",
    "import plotly.graph_objects as go\n",
    "from plotly.subplots import make_subplots\n",
    "from datetime import datetime, timedelta\n",
    "from sklearn.linear_model import LinearRegression\n",
    "import warnings\n",
    "warnings.filterwarnings('ignore')\n",
    "\n",
    "# Installation des bibliothèques si nécessaire\n",
    "try:\n",
    "    import ta\n",
    "    from scipy import stats\n",
    "except ImportError:\n",
    "    print(\"Installation des bibliothèques nécessaires...\")\n",
    "    !pip install ta\n",
    "    !pip install plotly\n",
    "    !pip install scikit-learn\n",
    "    !pip install scipy\n",
    "    import ta\n",
    "    from scipy import stats\n",
    "\n",
    "# Chargement des données ETH/USDT (1h)\n",
    "file_path = \"./Historique/ETHUSDT_1h.csv\"\n",
    "df = pd.read_csv(file_path)\n",
    "\n",
    "# Préparation des données\n",
    "df['open_time'] = pd.to_datetime(df['open_time'])\n",
    "df['close_time'] = pd.to_datetime(df['close_time'])\n",
    "df.set_index('open_time', inplace=True)\n",
    "df[['open', 'high', 'low', 'close', 'volume']] = df[['open', 'high', 'low', 'close', 'volume']].astype(float)\n",
    "\n",
    "# Afficher les informations de base\n",
    "print(f\"Données ETH/USDT 1h de {df.index.min()} à {df.index.max()}\")\n",
    "print(f\"Nombre de périodes: {len(df)}\")\n",
    "print(f\"Prix actuel: ${df['close'].iloc[-1]:.2f}\")\n",
    "print(f\"Variation 24h: {((df['close'].iloc[-1]/df['close'].iloc[-24])-1)*100:.2f}%\")\n",
    "\n",
    "# Filtrer les données pour ne garder que les derniers X jours\n",
    "days_to_analyze = 5  # Ajustable\n",
    "cutoff_date = df.index.max() - pd.Timedelta(days=days_to_analyze)\n",
    "df_recent = df[df.index > cutoff_date]\n",
    "\n",
    "# Ajouter un index numérique pour simplifier les calculs des lignes de tendance\n",
    "df_recent['candle_index'] = range(len(df_recent))\n",
    "\n",
    "# Calcul des indicateurs techniques avec la bibliothèque 'ta' au lieu de 'talib'\n",
    "# 1. Moyennes mobiles (SMA)\n",
    "df_recent['SMA20'] = ta.trend.sma_indicator(df_recent['close'], window=20)\n",
    "df_recent['SMA50'] = ta.trend.sma_indicator(df_recent['close'], window=50)\n",
    "df_recent['SMA200'] = ta.trend.sma_indicator(df_recent['close'], window=200)\n",
    "\n",
    "# 2. RSI (Relative Strength Index)\n",
    "df_recent['RSI'] = ta.momentum.rsi(df_recent['close'], window=14)\n",
    "\n",
    "# 3. MACD (Moving Average Convergence Divergence)\n",
    "macd = ta.trend.MACD(df_recent['close'], window_slow=26, window_fast=12, window_sign=9)\n",
    "df_recent['MACD'] = macd.macd()\n",
    "df_recent['MACD_signal'] = macd.macd_signal()\n",
    "df_recent['MACD_hist'] = macd.macd_diff()  # Histogramme = MACD - Signal\n",
    "\n",
    "# 4. Bandes de Bollinger\n",
    "bollinger = ta.volatility.BollingerBands(df_recent['close'], window=20, window_dev=2)\n",
    "df_recent['upper_band'] = bollinger.bollinger_hband()\n",
    "df_recent['middle_band'] = bollinger.bollinger_mavg()\n",
    "df_recent['lower_band'] = bollinger.bollinger_lband()\n",
    "\n",
    "# 5. ATR (Average True Range) pour la volatilité\n",
    "df_recent['ATR'] = ta.volatility.average_true_range(df_recent['high'], df_recent['low'], df_recent['close'], window=14)\n",
    "\n",
    "# Fonction pour identifier les niveaux de support et résistance\n",
    "def find_support_resistance(df, window=5, threshold=0.02):\n",
    "    highs = []\n",
    "    lows = []\n",
    "    \n",
    "    for i in range(window, len(df) - window):\n",
    "        # Check for swing high\n",
    "        if all(df['high'].iloc[i] > df['high'].iloc[i-j] for j in range(1, window+1)) and \\\n",
    "           all(df['high'].iloc[i] > df['high'].iloc[i+j] for j in range(1, window+1)):\n",
    "            highs.append((df.index[i], df['high'].iloc[i]))\n",
    "            \n",
    "        # Check for swing low\n",
    "        if all(df['low'].iloc[i] < df['low'].iloc[i-j] for j in range(1, window+1)) and \\\n",
    "           all(df['low'].iloc[i] < df['low'].iloc[i+j] for j in range(1, window+1)):\n",
    "            lows.append((df.index[i], df['low'].iloc[i]))\n",
    "    \n",
    "    # Group similar price levels\n",
    "    resistance_levels = []\n",
    "    support_levels = []\n",
    "    \n",
    "    for high_date, high_price in highs:\n",
    "        # Check if similar price already exists\n",
    "        exists = False\n",
    "        for i, (_, r_price) in enumerate(resistance_levels):\n",
    "            if abs(high_price - r_price) / r_price < threshold:\n",
    "                exists = True\n",
    "                # Take average of the prices\n",
    "                resistance_levels[i] = (resistance_levels[i][0], (resistance_levels[i][1] + high_price) / 2)\n",
    "                break\n",
    "        if not exists:\n",
    "            resistance_levels.append((high_date, high_price))\n",
    "    \n",
    "    for low_date, low_price in lows:\n",
    "        # Check if similar price already exists\n",
    "        exists = False\n",
    "        for i, (_, s_price) in enumerate(support_levels):\n",
    "            if abs(low_price - s_price) / s_price < threshold:\n",
    "                exists = True\n",
    "                # Take average of the prices\n",
    "                support_levels[i] = (support_levels[i][0], (support_levels[i][1] + low_price) / 2)\n",
    "                break\n",
    "        if not exists:\n",
    "            support_levels.append((low_date, low_price))\n",
    "    \n",
    "    return support_levels, resistance_levels\n",
    "\n",
    "# Fonction pour détecter les lignes de tendance obliques (supports et résistances dynamiques)\n",
    "def find_trend_lines(df, min_points=3, max_lines=3, price_tolerance=0.005):\n",
    "    \"\"\"Identifier les lignes de tendance avec au moins min_points points de contact.\n",
    "    \n",
    "    Args:\n",
    "        df: DataFrame avec au moins les colonnes 'candle_index', 'high', 'low'\n",
    "        min_points: nombre minimum de points requis pour une ligne de tendance valide\n",
    "        max_lines: nombre maximum de lignes à retourner (les meilleures)\n",
    "        price_tolerance: tolérance pour considérer un point comme un touch point (en %)\n",
    "        \n",
    "    Returns:\n",
    "        tuple: (trend_supports, trend_resistances)\n",
    "    \"\"\"\n",
    "    \n",
    "    # Préparer les données pour les calculs\n",
    "    highs = [(x, y) for x, y in zip(df['candle_index'], df['high'])]\n",
    "    lows = [(x, y) for x, y in zip(df['candle_index'], df['low'])]\n",
    "    \n",
    "    # Fonction pour calculer la qualité d'une ligne\n",
    "    def line_quality(line_params, points, is_support=True):\n",
    "        \"\"\"Évalue la qualité d'une ligne de tendance.\"\"\"\n",
    "        a, b = line_params  # y = ax + b\n",
    "        \n",
    "        touch_points = []\n",
    "        errors = []\n",
    "        violations = 0\n",
    "        \n",
    "        for x, y in points:\n",
    "            line_y = a * x + b\n",
    "            error = (y - line_y) / y  # erreur relative\n",
    "            errors.append(abs(error))\n",
    "            \n",
    "            # Déterminer si c'est un point de contact avec tolérance\n",
    "            if abs(error) <= price_tolerance:\n",
    "                touch_points.append((x, y))\n",
    "                \n",
    "            # Si c'est un support, on doit avoir line_y <= y\n",
    "            # Si c'est une résistance, on doit avoir line_y >= y\n",
    "            if (is_support and line_y > y) or (not is_support and line_y < y):\n",
    "                violations += 1\n",
    "        \n",
    "        # Calculer la qualité (plus de points, moins d'erreur, moins de violations = meilleur)\n",
    "        if len(touch_points) < min_points or violations > 0:\n",
    "            return -1, None  # Ligne invalide\n",
    "        \n",
    "        # Importance = nombre de points * longueur relative entre premier et dernier point\n",
    "        if touch_points:\n",
    "            touch_points.sort(key=lambda p: p[0])  # Trier par x\n",
    "            x_span = touch_points[-1][0] - touch_points[0][0]\n",
    "            importance = len(touch_points) * (x_span / len(df))\n",
    "            \n",
    "            # Calculer la pente en degrés\n",
    "            angle_deg = abs(np.degrees(np.arctan(a)))\n",
    "            # Pénaliser les lignes trop verticales (>45°) ou trop horizontales (<2°)\n",
    "            if angle_deg > 45 or angle_deg < 2:\n",
    "                importance *= 0.5\n",
    "                \n",
    "            return importance, touch_points\n",
    "        return -1, None\n",
    "    \n",
    "    # Trouver les supports (lignes de tendance sous les prix)\n",
    "    support_lines = []\n",
    "    for i in range(len(lows)):\n",
    "        for j in range(i + 1, len(lows)):\n",
    "            x1, y1 = lows[i]\n",
    "            x2, y2 = lows[j]\n",
    "            if x1 == x2:  # Éviter la division par zéro\n",
    "                continue\n",
    "            \n",
    "            # Calculer les paramètres de la ligne (y = ax + b)\n",
    "            a = (y2 - y1) / (x2 - x1)\n",
    "            b = y1 - a * x1\n",
    "            \n",
    "            # Évaluer la qualité de la ligne\n",
    "            importance, touch_points = line_quality((a, b), lows, is_support=True)\n",
    "            if importance > 0 and touch_points is not None:\n",
    "                support_lines.append((importance, a, b, touch_points))\n",
    "    \n",
    "    # Trouver les résistances (lignes de tendance au-dessus des prix)\n",
    "    resistance_lines = []\n",
    "    for i in range(len(highs)):\n",
    "        for j in range(i + 1, len(highs)):\n",
    "            x1, y1 = highs[i]\n",
    "            x2, y2 = highs[j]\n",
    "            if x1 == x2:  # Éviter la division par zéro\n",
    "                continue\n",
    "            \n",
    "            # Calculer les paramètres de la ligne (y = ax + b)\n",
    "            a = (y2 - y1) / (x2 - x1)\n",
    "            b = y1 - a * x1\n",
    "            \n",
    "            # Évaluer la qualité de la ligne\n",
    "            importance, touch_points = line_quality((a, b), highs, is_support=False)\n",
    "            if importance > 0 and touch_points is not None:\n",
    "                resistance_lines.append((importance, a, b, touch_points))\n",
    "    \n",
    "    # Trier par importance et prendre les meilleures lignes\n",
    "    support_lines.sort(key=lambda x: x[0], reverse=True)\n",
    "    resistance_lines.sort(key=lambda x: x[0], reverse=True)\n",
    "    \n",
    "    # Supprimer les doublons (lignes très similaires)\n",
    "    def filter_similar_lines(lines, tolerance=0.01):\n",
    "        if not lines:\n",
    "            return []\n",
    "            \n",
    "        filtered_lines = [lines[0]]\n",
    "        for line in lines[1:]:\n",
    "            _, a1, b1, _ = line\n",
    "            is_duplicate = False\n",
    "            \n",
    "            for _, a2, b2, _ in filtered_lines:\n",
    "                # Comparer les pentes et les ordonnées à l'origine\n",
    "                if abs(a1 - a2) < tolerance and abs(b1 - b2) / (abs(b1) + abs(b2) + 1e-10) < tolerance:\n",
    "                    is_duplicate = True\n",
    "                    break\n",
    "                    \n",
    "            if not is_duplicate:\n",
    "                filtered_lines.append(line)\n",
    "                \n",
    "        return filtered_lines[:max_lines]\n",
    "    \n",
    "    return (filter_similar_lines(support_lines), \n",
    "            filter_similar_lines(resistance_lines))\n",
    "\n",
    "# Identifier les niveaux de support et résistance\n",
    "support_levels, resistance_levels = find_support_resistance(df_recent)\n",
    "\n",
    "# Fonction pour identifier les tendances\n",
    "def identify_trend(df, window=20):\n",
    "    # Utiliser la régression linéaire pour déterminer la tendance\n",
    "    X = np.array(range(window)).reshape(-1, 1)\n",
    "    y = df['close'].iloc[-window:].values\n",
    "    model = LinearRegression().fit(X, y)\n",
    "    slope = model.coef_[0]\n",
    "    \n",
    "    # Calculer la force de la tendance (R²)\n",
    "    y_pred = model.predict(X)\n",
    "    r_squared = 1 - np.sum((y - y_pred) ** 2) / np.sum((y - np.mean(y)) ** 2)\n",
    "    \n",
    "    if slope > 0 and r_squared > 0.6:\n",
    "        return \"Haussière (forte)\", slope, r_squared\n",
    "    elif slope > 0:\n",
    "        return \"Haussière (faible)\", slope, r_squared\n",
    "    elif slope < 0 and r_squared > 0.6:\n",
    "        return \"Baissière (forte)\", slope, r_squared\n",
    "    elif slope < 0:\n",
    "        return \"Baissière (faible)\", slope, r_squared\n",
    "    else:\n",
    "        return \"Neutre\", slope, r_squared\n",
    "\n",
    "# Analyser la tendance actuelle\n",
    "trend, slope, r_squared = identify_trend(df_recent)\n",
    "\n",
    "# Identifier les lignes de tendance dynamiques\n",
    "trend_supports, trend_resistances = find_trend_lines(df_recent, min_points=3, max_lines=3)\n",
    "\n",
    "print(f\"\\nTendance actuelle: {trend}\")\n",
    "print(f\"Force de la tendance (R²): {r_squared:.2f}\")\n",
    "print(f\"Lignes de support dynamique trouvées: {len(trend_supports)}\")\n",
    "print(f\"Lignes de résistance dynamique trouvées: {len(trend_resistances)}\")\n",
    "\n",
    "# Création du dashboard interactif avec Plotly\n",
    "fig = make_subplots(rows=4, cols=1, \n",
    "                     shared_xaxes=True,\n",
    "                     vertical_spacing=0.02,\n",
    "                     row_heights=[0.5, 0.15, 0.15, 0.2],\n",
    "                     subplot_titles=(\"ETH/USDT - Prix et Tendance\", \"Volume\", \"RSI\", \"MACD\"))\n",
    "\n",
    "# Graphique des prix avec bougies japonaises\n",
    "fig.add_trace(go.Candlestick(x=df_recent.index,\n",
    "                            open=df_recent['open'],\n",
    "                            high=df_recent['high'],\n",
    "                            low=df_recent['low'],\n",
    "                            close=df_recent['close'],\n",
    "                            name=\"Prix\"), row=1, col=1)\n",
    "\n",
    "# Ajouter les moyennes mobiles\n",
    "fig.add_trace(go.Scatter(x=df_recent.index, y=df_recent['SMA20'], name=\"SMA 20\", line=dict(color=\"blue\", width=1)), row=1, col=1)\n",
    "fig.add_trace(go.Scatter(x=df_recent.index, y=df_recent['SMA50'], name=\"SMA 50\", line=dict(color=\"orange\", width=1)), row=1, col=1)\n",
    "fig.add_trace(go.Scatter(x=df_recent.index, y=df_recent['SMA200'], name=\"SMA 200\", line=dict(color=\"red\", width=1)), row=1, col=1)\n",
    "\n",
    "# Ajouter les bandes de Bollinger\n",
    "fig.add_trace(go.Scatter(x=df_recent.index, y=df_recent['upper_band'], name=\"BB Upper\", line=dict(color=\"rgba(250, 0, 0, 0.4)\", width=1)), row=1, col=1)\n",
    "fig.add_trace(go.Scatter(x=df_recent.index, y=df_recent['lower_band'], name=\"BB Lower\", line=dict(color=\"rgba(250, 0, 0, 0.4)\", width=1), fill='tonexty', fillcolor='rgba(250, 0, 0, 0.1)'), row=1, col=1)\n",
    "\n",
    "# Ajouter les niveaux de support et résistance\n",
    "current_price = df_recent['close'].iloc[-1]\n",
    "for _, price in resistance_levels:\n",
    "    if price > current_price * 0.9 and price < current_price * 1.2:  # Montrer seulement les niveaux pertinents\n",
    "        fig.add_shape(type=\"line\", x0=df_recent.index[0], x1=df_recent.index[-1], y0=price, y1=price,\n",
    "                    line=dict(color=\"red\", width=1, dash=\"dash\"), row=1, col=1)\n",
    "        fig.add_annotation(x=df_recent.index[-1], y=price, text=f\"R: {price:.2f}\",\n",
    "                        showarrow=False, xanchor=\"right\", row=1, col=1)\n",
    "\n",
    "for _, price in support_levels:\n",
    "    if price > current_price * 0.8 and price < current_price * 1.1:  # Montrer seulement les niveaux pertinents\n",
    "        fig.add_shape(type=\"line\", x0=df_recent.index[0], x1=df_recent.index[-1], y0=price, y1=price,\n",
    "                    line=dict(color=\"green\", width=1, dash=\"dash\"), row=1, col=1)\n",
    "        fig.add_annotation(x=df_recent.index[-1], y=price, text=f\"S: {price:.2f}\",\n",
    "                        showarrow=False, xanchor=\"right\", row=1, col=1)\n",
    "\n",
    "# Ajouter les lignes de tendance dynamiques (supports obliques)\n",
    "for i, (_, a, b, touch_points) in enumerate(trend_supports):\n",
    "    # Obtenir la première et dernière date pour tracer la ligne\n",
    "    start_idx = min(tp[0] for tp in touch_points)\n",
    "    end_idx = max(tp[0] for tp in touch_points)\n",
    "    \n",
    "    # Prolonger la ligne un peu au-delà des points pour la visibilité\n",
    "    extended_start_idx = max(0, start_idx - 10)\n",
    "    extended_end_idx = min(len(df_recent) - 1, end_idx + 20)\n",
    "    \n",
    "    # Tracer la ligne de tendance\n",
    "    x_start = df_recent.iloc[extended_start_idx].name\n",
    "    x_end = df_recent.iloc[extended_end_idx].name\n",
    "    y_start = a * (extended_start_idx) + b\n",
    "    y_end = a * (extended_end_idx) + b\n",
    "    \n",
    "    # Ajouter la ligne comme une forme\n",
    "    fig.add_shape(\n",
    "        type=\"line\",\n",
    "        x0=x_start, y0=y_start,\n",
    "        x1=x_end, y1=y_end,\n",
    "        line=dict(color=\"green\", width=2),\n",
    "        row=1, col=1\n",
    "    )\n",
    "    \n",
    "    # Ajouter des marqueurs pour les points de contact\n",
    "    for candle_idx, price in touch_points:\n",
    "        date = df_recent.iloc[candle_idx].name\n",
    "        fig.add_trace(\n",
    "            go.Scatter(\n",
    "                x=[date],\n",
    "                y=[price],\n",
    "                mode='markers',\n",
    "                marker=dict(color='green', size=8, symbol='circle-open'),\n",
    "                showlegend=False\n",
    "            ),\n",
    "            row=1, col=1\n",
    "        )\n",
    "\n",
    "# Ajouter les lignes de tendance dynamiques (résistances obliques)\n",
    "for i, (_, a, b, touch_points) in enumerate(trend_resistances):\n",
    "    # Obtenir la première et dernière date pour tracer la ligne\n",
    "    start_idx = min(tp[0] for tp in touch_points)\n",
    "    end_idx = max(tp[0] for tp in touch_points)\n",
    "    \n",
    "    # Prolonger la ligne un peu au-delà des points pour la visibilité\n",
    "    extended_start_idx = max(0, start_idx - 10)\n",
    "    extended_end_idx = min(len(df_recent) - 1, end_idx + 20)\n",
    "    \n",
    "    # Tracer la ligne de tendance\n",
    "    x_start = df_recent.iloc[extended_start_idx].name\n",
    "    x_end = df_recent.iloc[extended_end_idx].name\n",
    "    y_start = a * (extended_start_idx) + b\n",
    "    y_end = a * (extended_end_idx) + b\n",
    "    \n",
    "    # Ajouter la ligne comme une forme\n",
    "    fig.add_shape(\n",
    "        type=\"line\",\n",
    "        x0=x_start, y0=y_start,\n",
    "        x1=x_end, y1=y_end,\n",
    "        line=dict(color=\"red\", width=2),\n",
    "        row=1, col=1\n",
    "    )\n",
    "    \n",
    "    # Ajouter des marqueurs pour les points de contact\n",
    "    for candle_idx, price in touch_points:\n",
    "        date = df_recent.iloc[candle_idx].name\n",
    "        fig.add_trace(\n",
    "            go.Scatter(\n",
    "                x=[date],\n",
    "                y=[price],\n",
    "                mode='markers',\n",
    "                marker=dict(color='red', size=8, symbol='circle-open'),\n",
    "                showlegend=False\n",
    "            ),\n",
    "            row=1, col=1\n",
    "        )\n",
    "\n",
    "# Volume\n",
    "colors = ['red' if row['close'] < row['open'] else 'green' for _, row in df_recent.iterrows()]\n",
    "fig.add_trace(go.Bar(x=df_recent.index, y=df_recent['volume'], name=\"Volume\", marker_color=colors), row=2, col=1)\n",
    "\n",
    "# RSI\n",
    "fig.add_trace(go.Scatter(x=df_recent.index, y=df_recent['RSI'], name=\"RSI\", line=dict(color=\"purple\", width=1)), row=3, col=1)\n",
    "# Ajouter des lignes horizontales pour les niveaux RSI\n",
    "fig.add_shape(type=\"line\", x0=df_recent.index[0], x1=df_recent.index[-1], y0=70, y1=70,\n",
    "            line=dict(color=\"red\", width=1, dash=\"dash\"), row=3, col=1)\n",
    "fig.add_shape(type=\"line\", x0=df_recent.index[0], x1=df_recent.index[-1], y0=30, y1=30,\n",
    "            line=dict(color=\"green\", width=1, dash=\"dash\"), row=3, col=1)\n",
    "\n",
    "# MACD\n",
    "fig.add_trace(go.Scatter(x=df_recent.index, y=df_recent['MACD'], name=\"MACD\", line=dict(color=\"blue\", width=1)), row=4, col=1)\n",
    "fig.add_trace(go.Scatter(x=df_recent.index, y=df_recent['MACD_signal'], name=\"Signal\", line=dict(color=\"red\", width=1)), row=4, col=1)\n",
    "\n",
    "# Histogramme MACD\n",
    "colors = ['red' if val < 0 else 'green' for val in df_recent['MACD_hist']]\n",
    "fig.add_trace(go.Bar(x=df_recent.index, y=df_recent['MACD_hist'], name=\"Histogramme\", marker_color=colors), row=4, col=1)\n",
    "\n",
    "# Mise en forme du graphique\n",
    "fig.update_layout(\n",
    "    title=f\"Analyse Technique ETH/USDT 1h - {datetime.now().strftime('%d/%m/%Y')}\",\n",
    "    height=900,\n",
    "    xaxis4_rangeslider_visible=False,\n",
    "    legend=dict(orientation=\"h\", yanchor=\"bottom\", y=1.02, xanchor=\"center\", x=0.5),\n",
    "    template=\"plotly_dark\"\n",
    ")\n",
    "\n",
    "# Les axes Y pour chaque sous-graphique\n",
    "fig.update_yaxes(title_text=\"Prix (USDT)\", row=1, col=1)\n",
    "fig.update_yaxes(title_text=\"Volume\", row=2, col=1)\n",
    "fig.update_yaxes(title_text=\"RSI\", row=3, col=1, range=[0, 100])\n",
    "fig.update_yaxes(title_text=\"MACD\", row=4, col=1)\n",
    "\n",
    "fig.show()\n",
    "\n",
    "# Résumé de l'analyse technique\n",
    "print(\"\\n===== Résumé de l'Analyse Technique ETH/USDT =====\\n\")\n",
    "print(f\"Prix actuel: ${df_recent['close'].iloc[-1]:.2f}\")\n",
    "print(f\"Tendance: {trend}\")\n",
    "\n",
    "# Afficher les informations sur les lignes de tendance dynamiques\n",
    "if trend_supports:\n",
    "    print(\"\\nLignes de support dynamiques:\")\n",
    "    for i, (importance, a, b, touch_points) in enumerate(trend_supports):\n",
    "        print(f\"  Support {i+1}: {len(touch_points)} points de contact\")\n",
    "        slope_degrees = np.degrees(np.arctan(a))\n",
    "        print(f\"   - Angle: {slope_degrees:.1f}° {'↗' if a > 0 else '↘'}\")\n",
    "\n",
    "if trend_resistances:\n",
    "    print(\"\\nLignes de résistance dynamiques:\")\n",
    "    for i, (importance, a, b, touch_points) in enumerate(trend_resistances):\n",
    "        print(f\"  Résistance {i+1}: {len(touch_points)} points de contact\")\n",
    "        slope_degrees = np.degrees(np.arctan(a))\n",
    "        print(f\"   - Angle: {slope_degrees:.1f}° {'↗' if a > 0 else '↘'}\")\n",
    "\n",
    "# Signaux des moyennes mobiles\n",
    "if df_recent['SMA20'].iloc[-1] > df_recent['SMA50'].iloc[-1]:\n",
    "    signal_ma = \"⬆️ Haussier - SMA20 au-dessus de SMA50\"\n",
    "else:\n",
    "    signal_ma = \"⬇️ Baissier - SMA20 en-dessous de SMA50\"\n",
    "\n",
    "print(f\"\\nSignal MM: {signal_ma}\")\n",
    "\n",
    "# RSI\n",
    "rsi_value = df_recent['RSI'].iloc[-1]\n",
    "if rsi_value > 70:\n",
    "    rsi_signal = \"⬇️ Survente - Risque de correction baissière\"\n",
    "elif rsi_value < 30:\n",
    "    rsi_signal = \"⬆️ Surachat - Potentiel de rebond haussier\"\n",
    "else:\n",
    "    rsi_signal = \"➡️ Neutre\"\n",
    "\n",
    "print(f\"RSI ({rsi_value:.1f}): {rsi_signal}\")\n",
    "\n",
    "# MACD\n",
    "if df_recent['MACD'].iloc[-1] > df_recent['MACD_signal'].iloc[-1]:\n",
    "    macd_signal = \"⬆️ Signal haussier - MACD au-dessus du Signal\"\n",
    "else:\n",
    "    macd_signal = \"⬇️ Signal baissier - MACD en-dessous du Signal\"\n",
    "\n",
    "print(f\"MACD: {macd_signal}\")\n",
    "\n",
    "# Bandes de Bollinger\n",
    "price = df_recent['close'].iloc[-1]\n",
    "upper = df_recent['upper_band'].iloc[-1]\n",
    "lower = df_recent['lower_band'].iloc[-1]\n",
    "middle = df_recent['middle_band'].iloc[-1]\n",
    "\n",
    "bb_width = (upper - lower) / middle\n",
    "if price > upper * 0.97:\n",
    "    bb_signal = \"⬇️ Proche limite haute - Potentiel retournement baissier\"\n",
    "elif price < lower * 1.03:\n",
    "    bb_signal = \"⬆️ Proche limite basse - Potentiel retournement haussier\"\n",
    "else:\n",
    "    bb_signal = \"➡️ Dans la zone neutre\"    \n",
    "\n",
    "print(f\"Bandes de Bollinger: {bb_signal} (Largeur: {bb_width:.2f})\")\n",
    "\n",
    "# Support/Résistance proches\n",
    "nearest_support = None\n",
    "nearest_resistance = None\n",
    "min_support_diff = float('inf')\n",
    "min_resistance_diff = float('inf')\n",
    "\n",
    "for _, price_level in support_levels:\n",
    "    if price > price_level:\n",
    "        diff = (price - price_level) / price\n",
    "        if diff < min_support_diff:\n",
    "            min_support_diff = diff\n",
    "            nearest_support = price_level\n",
    "\n",
    "for _, price_level in resistance_levels:\n",
    "    if price < price_level:\n",
    "        diff = (price_level - price) / price\n",
    "        if diff < min_resistance_diff:\n",
    "            min_resistance_diff = diff\n",
    "            nearest_resistance = price_level\n",
    "\n",
    "if nearest_support:\n",
    "    print(f\"Support le plus proche: ${nearest_support:.2f} (-{min_support_diff*100:.2f}%)\")\n",
    "else:\n",
    "    print(\"Pas de support identifié dans la plage de prix actuelle\")\n",
    "    \n",
    "if nearest_resistance:\n",
    "    print(f\"Résistance la plus proche: ${nearest_resistance:.2f} (+{min_resistance_diff*100:.2f}%)\")\n",
    "else:\n",
    "    print(\"Pas de résistance identifiée dans la plage de prix actuelle\")\n",
    "\n",
    "print(\"\\n==== Recommandation ====\\n\")\n",
    "\n",
    "# Synthèse des signaux pour une recommandation\n",
    "bullish_signals = 0\n",
    "bearish_signals = 0\n",
    "\n",
    "# Signal de tendance\n",
    "if \"Haussière\" in trend:\n",
    "    bullish_signals += 2 if \"forte\" in trend else 1\n",
    "elif \"Baissière\" in trend:\n",
    "    bearish_signals += 2 if \"forte\" in trend else 1\n",
    "    \n",
    "# Signal MM\n",
    "if \"Haussier\" in signal_ma:\n",
    "    bullish_signals += 1\n",
    "else:\n",
    "    bearish_signals += 1\n",
    "    \n",
    "# Signal RSI\n",
    "if \"Surachat\" in rsi_signal:\n",
    "    bullish_signals += 1\n",
    "elif \"Survente\" in rsi_signal:\n",
    "    bearish_signals += 1\n",
    "    \n",
    "# Signal MACD\n",
    "if \"haussier\" in macd_signal:\n",
    "    bullish_signals += 1\n",
    "else:\n",
    "    bearish_signals += 1\n",
    "    \n",
    "# Signal BB\n",
    "if \"haussier\" in bb_signal.lower():\n",
    "    bullish_signals += 1\n",
    "elif \"baissier\" in bb_signal.lower():\n",
    "    bearish_signals += 1\n",
    "\n",
    "# Signaux tendances dynamiques\n",
    "if trend_supports and any(a > 0 for _, a, _, _ in trend_supports):\n",
    "    # Support ascendant = haussier\n",
    "    bullish_signals += 1\n",
    "    print(\"Support ascendant détecté: signal haussier (+1)\")\n",
    "elif trend_supports and all(a < 0 for _, a, _, _ in trend_supports):\n",
    "    # Support descendant = baissier\n",
    "    bearish_signals += 1\n",
    "    print(\"Support descendant détecté: signal baissier (+1)\")\n",
    "\n",
    "if trend_resistances and any(a > 0 for _, a, _, _ in trend_resistances) and any(len(points) >= 3 for _, _, _, points in trend_resistances):\n",
    "    # Résistance ascendante avec 3+ points = tendance haussière forte\n",
    "    bullish_signals += 1\n",
    "    print(\"Résistance ascendante forte détectée: signal haussier (+1)\")\n",
    "\n",
    "# Recommandation finale\n",
    "if bullish_signals > bearish_signals + 2:\n",
    "    recommendation = \"ACHAT FORT\"\n",
    "elif bullish_signals > bearish_signals:\n",
    "    recommendation = \"ACHAT\"\n",
    "elif bearish_signals > bullish_signals + 2:\n",
    "    recommendation = \"VENTE FORTE\"\n",
    "elif bearish_signals > bullish_signals:\n",
    "    recommendation = \"VENTE\"\n",
    "else:\n",
    "    recommendation = \"NEUTRE\"\n",
    "\n",
    "print(f\"Signaux haussiers: {bullish_signals}\")\n",
    "print(f\"Signaux baissiers: {bearish_signals}\")\n",
    "print(f\"\\nRecommandation: {recommendation}\")"
   ]
  }
 ],
 "metadata": {
  "kernelspec": {
   "display_name": "Python 3",
   "language": "python",
   "name": "python3"
  },
  "language_info": {
   "codemirror_mode": {
    "name": "ipython",
    "version": 3
   },
   "file_extension": ".py",
   "mimetype": "text/x-python",
   "name": "python",
   "nbconvert_exporter": "python",
   "pygments_lexer": "ipython3",
   "version": "3.9.6"
  }
 },
 "nbformat": 4,
 "nbformat_minor": 5
}
